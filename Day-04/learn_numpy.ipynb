{
 "cells": [
  {
   "cell_type": "markdown",
   "metadata": {},
   "source": [
    "# Introduction to Numpy\n",
    "## Outline\n",
    "- It is a python package, it stands for numerical python.\n",
    "- Fundamental package for numerical computations in python\n",
    "- Supports N-dimensional array objects that can be used for processing muliidimensionl data\n",
    "- Supports different data-types"
   ]
  },
  {
   "cell_type": "markdown",
   "metadata": {},
   "source": [
    "## Array and List in Python\n",
    "- An array is a data structure that stores values of same data type\n",
    "- List can contain values corresponding to different data types\n",
    "- Arrays in python can only contain values corresponding to same data type"
   ]
  },
  {
   "cell_type": "markdown",
   "metadata": {},
   "source": [
    "## Numpy Array\n",
    "- A numpy array is a grid of values, all of the same type, and is indexed by a tuple of non-negative integers.\n",
    "- The number of dimensions is the rank of the array\n",
    "- The shape of an array is a tuple of integers giving the size of the array along each dimension"
   ]
  },
  {
   "cell_type": "markdown",
   "metadata": {},
   "source": [
    "## Creation of Array"
   ]
  },
  {
   "cell_type": "code",
   "execution_count": 2,
   "metadata": {},
   "outputs": [],
   "source": [
    "my_list = [1, 2, 3, 4, 5, 6] "
   ]
  },
  {
   "cell_type": "code",
   "execution_count": 5,
   "metadata": {},
   "outputs": [
    {
     "name": "stdout",
     "output_type": "stream",
     "text": [
      "[1 2 3 4 5 6]\n"
     ]
    }
   ],
   "source": [
    "import numpy as np\n",
    "my_array = np.array(my_list, dtype = int)\n",
    "print(my_array)"
   ]
  },
  {
   "cell_type": "code",
   "execution_count": 9,
   "metadata": {},
   "outputs": [
    {
     "name": "stdout",
     "output_type": "stream",
     "text": [
      "<class 'numpy.ndarray'>\n",
      "6\n",
      "(6,)\n",
      "1\n"
     ]
    }
   ],
   "source": [
    "print(type(my_array))\n",
    "print(len(my_array))\n",
    "print(my_array.shape)\n",
    "print(my_array.ndim)"
   ]
  },
  {
   "cell_type": "code",
   "execution_count": 11,
   "metadata": {},
   "outputs": [
    {
     "name": "stdout",
     "output_type": "stream",
     "text": [
      "[[1 2]\n",
      " [3 4]\n",
      " [5 6]]\n"
     ]
    },
    {
     "data": {
      "text/plain": [
       "(3, 2)"
      ]
     },
     "execution_count": 11,
     "metadata": {},
     "output_type": "execute_result"
    }
   ],
   "source": [
    "array2 = my_array.reshape(3,2)\n",
    "print(array2)\n",
    "array2.shape"
   ]
  },
  {
   "cell_type": "code",
   "execution_count": 12,
   "metadata": {},
   "outputs": [
    {
     "name": "stdout",
     "output_type": "stream",
     "text": [
      "[[1 2]\n",
      " [3 4]\n",
      " [5 6]]\n",
      "(3, 2)\n",
      "2\n"
     ]
    }
   ],
   "source": [
    "array3 = my_array.reshape(3,-1) # -1 means that numpy will figure out the number of columns\n",
    "print(array3)\n",
    "print(array3.shape)\n",
    "print(array3.ndim) #"
   ]
  },
  {
   "cell_type": "code",
   "execution_count": 16,
   "metadata": {},
   "outputs": [
    {
     "name": "stdout",
     "output_type": "stream",
     "text": [
      "[[[  1   2   3]\n",
      "  [  4   5   6]\n",
      "  [  7   8   9]]\n",
      "\n",
      " [[ 92  93  94]\n",
      "  [ 95  96  97]\n",
      "  [ 98  99 100]]\n",
      "\n",
      " [[ 43  44  45]\n",
      "  [ 46  47  48]\n",
      "  [ 49  50  51]]]\n",
      "(3, 3, 3)\n"
     ]
    }
   ],
   "source": [
    "# Initializing numpy arrays from nested python lists\n",
    "my_list2 = [[1, 2, 3], [4, 5, 6], [7, 8, 9]]\n",
    "my_list3 = [[92, 93, 94], [95, 96, 97], [98, 99, 100]]\n",
    "my_list4 = [[43, 44, 45], [46, 47, 48], [49, 50, 51]]\n",
    "\n",
    "mul_array = np.array([my_list2, my_list3, my_list4])\n",
    "print(mul_array)\n",
    "print(mul_array.shape) "
   ]
  },
  {
   "cell_type": "code",
   "execution_count": 17,
   "metadata": {},
   "outputs": [
    {
     "data": {
      "text/plain": [
       "array([  1,   2,   3,   4,   5,   6,   7,   8,   9,  92,  93,  94,  95,\n",
       "        96,  97,  98,  99, 100,  43,  44,  45,  46,  47,  48,  49,  50,\n",
       "        51])"
      ]
     },
     "execution_count": 17,
     "metadata": {},
     "output_type": "execute_result"
    }
   ],
   "source": [
    "mul_array.flatten() # flattens the array to a single dimension"
   ]
  },
  {
   "cell_type": "markdown",
   "metadata": {},
   "source": [
    "## Numpy-Attributes\n",
    "NumPy arrays come with several attributes that provide useful information about the array. Here are some of the most commonly used attributes:\n",
    "\n",
    "1. **`ndarray.ndim`**:\n",
    "   - The number of dimensions (axes) of the array.\n",
    "   ```python\n",
    "   import numpy as np\n",
    "   a = np.array([[1, 2, 3], [4, 5, 6]])\n",
    "   print(a.ndim)  # Output: 2\n",
    "   ```\n",
    "\n",
    "2. **`ndarray.shape`**:\n",
    "   - The dimensions of the array. This is a tuple of integers indicating the size of the array in each dimension.\n",
    "   ```python\n",
    "   print(a.shape)  # Output: (2, 3)\n",
    "   ```\n",
    "\n",
    "3. **`ndarray.size`**:\n",
    "   - The total number of elements in the array.\n",
    "   ```python\n",
    "   print(a.size)  # Output: 6\n",
    "   ```\n",
    "\n",
    "4. **`ndarray.dtype`**:\n",
    "   - The data type of the elements in the array.\n",
    "   ```python\n",
    "   print(a.dtype)  # Output: int64 (or int32 depending on the system)\n",
    "   ```\n",
    "\n",
    "5. **`ndarray.itemsize`**:\n",
    "   - The size in bytes of each element in the array.\n",
    "   ```python\n",
    "   print(a.itemsize)  # Output: 8 (for int64)\n",
    "   ```\n",
    "\n",
    "6. **`ndarray.nbytes`**:\n",
    "   - The total number of bytes consumed by the elements of the array.\n",
    "   ```python\n",
    "   print(a.nbytes)  # Output: 48 (6 elements * 8 bytes each)\n",
    "   ```\n",
    "\n",
    "7. **`ndarray.T`**:\n",
    "   - The transposed array.\n",
    "   ```python\n",
    "   print(a.T)\n",
    "   # Output:\n",
    "   # [[1 4]\n",
    "   #  [2 5]\n",
    "   #  [3 6]]\n",
    "   ```\n",
    "\n",
    "8. **`ndarray.real`**:\n",
    "   - The real part of the array elements (useful for complex numbers).\n",
    "   ```python\n",
    "   b = np.array([1+2j, 3+4j])\n",
    "   print(b.real)  # Output: [1. 3.]\n",
    "   ```\n",
    "\n",
    "9. **`ndarray.imag`**:\n",
    "   - The imaginary part of the array elements (useful for complex numbers).\n",
    "   ```python\n",
    "   print(b.imag)  # Output: [2. 4.]\n",
    "   ```\n",
    "\n",
    "10. **`ndarray.flat`**:\n",
    "    - A 1-D iterator over the array.\n",
    "    ```python\n",
    "    for element in a.flat:\n",
    "        print(element)\n",
    "    # Output: 1 2 3 4 5 6\n",
    "    ```\n",
    "\n",
    "11. **`ndarray.ctypes`**:\n",
    "    - An object to simplify the interaction of the array with C code.\n",
    "    ```python\n",
    "    print(a.ctypes)\n",
    "    ```\n",
    "\n",
    "These attributes provide a wealth of information about the structure and properties of NumPy arrays, making it easier to manipulate and understand the data they contain."
   ]
  }
 ],
 "metadata": {
  "kernelspec": {
   "display_name": "Python 3",
   "language": "python",
   "name": "python3"
  },
  "language_info": {
   "codemirror_mode": {
    "name": "ipython",
    "version": 3
   },
   "file_extension": ".py",
   "mimetype": "text/x-python",
   "name": "python",
   "nbconvert_exporter": "python",
   "pygments_lexer": "ipython3",
   "version": "3.9.6"
  }
 },
 "nbformat": 4,
 "nbformat_minor": 2
}
