{
 "cells": [
  {
   "cell_type": "markdown",
   "metadata": {},
   "source": [
    "# Introduction to Numpy\n",
    "## Outline\n",
    "- It is a python package, it stands for numerical python.\n",
    "- Fundamental package for numerical computations in python\n",
    "- Supports N-dimensional array objects that can be used for processing muliidimensionl data\n",
    "- Supports different data-types"
   ]
  },
  {
   "cell_type": "markdown",
   "metadata": {},
   "source": [
    "## Array and List in Python\n",
    "- An array is a data structure that stores values of same data type\n",
    "- List can contain values corresponding to different data types\n",
    "- Arrays in python can only contain values corresponding to same data type"
   ]
  },
  {
   "cell_type": "markdown",
   "metadata": {},
   "source": [
    "## Numpy Array\n",
    "- A numpy array is a grid of values, all of the same type, and is indexed by a tuple of non-negative integers.\n",
    "- The number of dimensions is the rank of the array\n",
    "- The shape of an array is a tuple of integers giving the size of the array along each dimension"
   ]
  },
  {
   "cell_type": "markdown",
   "metadata": {},
   "source": [
    "## Creation of Array"
   ]
  },
  {
   "cell_type": "code",
   "execution_count": 1,
   "metadata": {},
   "outputs": [],
   "source": [
    "my_list = [1, 2, 3, 4, 5, 6] "
   ]
  },
  {
   "cell_type": "code",
   "execution_count": 2,
   "metadata": {},
   "outputs": [
    {
     "name": "stdout",
     "output_type": "stream",
     "text": [
      "[1 2 3 4 5 6]\n"
     ]
    }
   ],
   "source": [
    "import numpy as np\n",
    "my_array = np.array(my_list, dtype = int)\n",
    "print(my_array)"
   ]
  },
  {
   "cell_type": "markdown",
   "metadata": {},
   "source": [
    "Sure! Let's go through the code and identify the functions, their arguments, and return types:\n",
    "\n",
    "1. [`plt.imshow(A, cmap='viridis')`](command:_github.copilot.openSymbolFromReferences?%5B%22plt.imshow(A%2C%20cmap%3D'viridis')%22%2C%5B%7B%22uri%22%3A%7B%22%24mid%22%3A1%2C%22fsPath%22%3A%22%2Fhome%2Fco_nlp_scholar%2FDocuments%2Fcode_workspace%2FPython-getting-started%2FDay-04%2Flearn_numpy.ipynb%22%2C%22external%22%3A%22vscode-notebook-cell%3A%2Fhome%2Fco_nlp_scholar%2FDocuments%2Fcode_workspace%2FPython-getting-started%2FDay-04%2Flearn_numpy.ipynb%23X66sZmlsZQ%253D%253D%22%2C%22path%22%3A%22%2Fhome%2Fco_nlp_scholar%2FDocuments%2Fcode_workspace%2FPython-getting-started%2FDay-04%2Flearn_numpy.ipynb%22%2C%22scheme%22%3A%22vscode-notebook-cell%22%2C%22fragment%22%3A%22X66sZmlsZQ%3D%3D%22%7D%2C%22pos%22%3A%7B%22line%22%3A5%2C%22character%22%3A28%7D%7D%5D%5D \"Go to definition\")\n",
    "   - Function: [`imshow`](command:_github.copilot.openSymbolFromReferences?%5B%22imshow%22%2C%5B%7B%22uri%22%3A%7B%22%24mid%22%3A1%2C%22fsPath%22%3A%22%2Fhome%2Fco_nlp_scholar%2FDocuments%2Fcode_workspace%2FPython-getting-started%2FDay-04%2Flearn_numpy.ipynb%22%2C%22external%22%3A%22vscode-notebook-cell%3A%2Fhome%2Fco_nlp_scholar%2FDocuments%2Fcode_workspace%2FPython-getting-started%2FDay-04%2Flearn_numpy.ipynb%23X66sZmlsZQ%253D%253D%22%2C%22path%22%3A%22%2Fhome%2Fco_nlp_scholar%2FDocuments%2Fcode_workspace%2FPython-getting-started%2FDay-04%2Flearn_numpy.ipynb%22%2C%22scheme%22%3A%22vscode-notebook-cell%22%2C%22fragment%22%3A%22X66sZmlsZQ%3D%3D%22%7D%2C%22pos%22%3A%7B%22line%22%3A8%2C%22character%22%3A4%7D%7D%5D%5D \"Go to definition\")\n",
    "   - Arguments:\n",
    "     - [`A`](command:_github.copilot.openSymbolFromReferences?%5B%22A%22%2C%5B%7B%22uri%22%3A%7B%22%24mid%22%3A1%2C%22fsPath%22%3A%22%2Fhome%2Fco_nlp_scholar%2FDocuments%2Fcode_workspace%2FPython-getting-started%2FDay-04%2Flearn_numpy.ipynb%22%2C%22external%22%3A%22vscode-notebook-cell%3A%2Fhome%2Fco_nlp_scholar%2FDocuments%2Fcode_workspace%2FPython-getting-started%2FDay-04%2Flearn_numpy.ipynb%23X66sZmlsZQ%253D%253D%22%2C%22path%22%3A%22%2Fhome%2Fco_nlp_scholar%2FDocuments%2Fcode_workspace%2FPython-getting-started%2FDay-04%2Flearn_numpy.ipynb%22%2C%22scheme%22%3A%22vscode-notebook-cell%22%2C%22fragment%22%3A%22X66sZmlsZQ%3D%3D%22%7D%2C%22pos%22%3A%7B%22line%22%3A3%2C%22character%22%3A0%7D%7D%5D%5D \"Go to definition\"): The matrix to be plotted.\n",
    "     - [`cmap='viridis'`](command:_github.copilot.openSymbolFromReferences?%5B%22cmap%3D'viridis'%22%2C%5B%7B%22uri%22%3A%7B%22%24mid%22%3A1%2C%22fsPath%22%3A%22%2Fhome%2Fco_nlp_scholar%2FDocuments%2Fcode_workspace%2FPython-getting-started%2FDay-04%2Flearn_numpy.ipynb%22%2C%22external%22%3A%22vscode-notebook-cell%3A%2Fhome%2Fco_nlp_scholar%2FDocuments%2Fcode_workspace%2FPython-getting-started%2FDay-04%2Flearn_numpy.ipynb%23X66sZmlsZQ%253D%253D%22%2C%22path%22%3A%22%2Fhome%2Fco_nlp_scholar%2FDocuments%2Fcode_workspace%2FPython-getting-started%2FDay-04%2Flearn_numpy.ipynb%22%2C%22scheme%22%3A%22vscode-notebook-cell%22%2C%22fragment%22%3A%22X66sZmlsZQ%3D%3D%22%7D%2C%22pos%22%3A%7B%22line%22%3A8%2C%22character%22%3A14%7D%7D%5D%5D \"Go to definition\"): Optional argument specifying the color map to be used for the plot.\n",
    "   - Return type: None\n",
    "\n",
    "2. [`plt.colorbar()`](command:_github.copilot.openSymbolFromReferences?%5B%22plt.colorbar()%22%2C%5B%7B%22uri%22%3A%7B%22%24mid%22%3A1%2C%22fsPath%22%3A%22%2Fhome%2Fco_nlp_scholar%2FDocuments%2Fcode_workspace%2FPython-getting-started%2FDay-04%2Flearn_numpy.ipynb%22%2C%22external%22%3A%22vscode-notebook-cell%3A%2Fhome%2Fco_nlp_scholar%2FDocuments%2Fcode_workspace%2FPython-getting-started%2FDay-04%2Flearn_numpy.ipynb%23X66sZmlsZQ%253D%253D%22%2C%22path%22%3A%22%2Fhome%2Fco_nlp_scholar%2FDocuments%2Fcode_workspace%2FPython-getting-started%2FDay-04%2Flearn_numpy.ipynb%22%2C%22scheme%22%3A%22vscode-notebook-cell%22%2C%22fragment%22%3A%22X66sZmlsZQ%3D%3D%22%7D%2C%22pos%22%3A%7B%22line%22%3A5%2C%22character%22%3A28%7D%7D%5D%5D \"Go to definition\")\n",
    "   - Function: [`colorbar`](command:_github.copilot.openSymbolFromReferences?%5B%22colorbar%22%2C%5B%7B%22uri%22%3A%7B%22%24mid%22%3A1%2C%22fsPath%22%3A%22%2Fhome%2Fco_nlp_scholar%2FDocuments%2Fcode_workspace%2FPython-getting-started%2FDay-04%2Flearn_numpy.ipynb%22%2C%22external%22%3A%22vscode-notebook-cell%3A%2Fhome%2Fco_nlp_scholar%2FDocuments%2Fcode_workspace%2FPython-getting-started%2FDay-04%2Flearn_numpy.ipynb%23X66sZmlsZQ%253D%253D%22%2C%22path%22%3A%22%2Fhome%2Fco_nlp_scholar%2FDocuments%2Fcode_workspace%2FPython-getting-started%2FDay-04%2Flearn_numpy.ipynb%22%2C%22scheme%22%3A%22vscode-notebook-cell%22%2C%22fragment%22%3A%22X66sZmlsZQ%3D%3D%22%7D%2C%22pos%22%3A%7B%22line%22%3A9%2C%22character%22%3A4%7D%7D%5D%5D \"Go to definition\")\n",
    "   - Arguments: None\n",
    "   - Return type: None\n",
    "\n",
    "3. [`plt.title('Matrix A')`](command:_github.copilot.openSymbolFromReferences?%5B%22plt.title('Matrix%20A')%22%2C%5B%7B%22uri%22%3A%7B%22%24mid%22%3A1%2C%22fsPath%22%3A%22%2Fhome%2Fco_nlp_scholar%2FDocuments%2Fcode_workspace%2FPython-getting-started%2FDay-04%2Flearn_numpy.ipynb%22%2C%22external%22%3A%22vscode-notebook-cell%3A%2Fhome%2Fco_nlp_scholar%2FDocuments%2Fcode_workspace%2FPython-getting-started%2FDay-04%2Flearn_numpy.ipynb%23X66sZmlsZQ%253D%253D%22%2C%22path%22%3A%22%2Fhome%2Fco_nlp_scholar%2FDocuments%2Fcode_workspace%2FPython-getting-started%2FDay-04%2Flearn_numpy.ipynb%22%2C%22scheme%22%3A%22vscode-notebook-cell%22%2C%22fragment%22%3A%22X66sZmlsZQ%3D%3D%22%7D%2C%22pos%22%3A%7B%22line%22%3A5%2C%22character%22%3A28%7D%7D%5D%5D \"Go to definition\")\n",
    "   - Function: [`title`](command:_github.copilot.openSymbolFromReferences?%5B%22title%22%2C%5B%7B%22uri%22%3A%7B%22%24mid%22%3A1%2C%22fsPath%22%3A%22%2Fhome%2Fco_nlp_scholar%2FDocuments%2Fcode_workspace%2FPython-getting-started%2FDay-04%2Flearn_numpy.ipynb%22%2C%22external%22%3A%22vscode-notebook-cell%3A%2Fhome%2Fco_nlp_scholar%2FDocuments%2Fcode_workspace%2FPython-getting-started%2FDay-04%2Flearn_numpy.ipynb%23X66sZmlsZQ%253D%253D%22%2C%22path%22%3A%22%2Fhome%2Fco_nlp_scholar%2FDocuments%2Fcode_workspace%2FPython-getting-started%2FDay-04%2Flearn_numpy.ipynb%22%2C%22scheme%22%3A%22vscode-notebook-cell%22%2C%22fragment%22%3A%22X66sZmlsZQ%3D%3D%22%7D%2C%22pos%22%3A%7B%22line%22%3A10%2C%22character%22%3A4%7D%7D%5D%5D \"Go to definition\")\n",
    "   - Arguments:\n",
    "     - `'Matrix A'`: The title to be displayed on the plot.\n",
    "   - Return type: None\n",
    "\n",
    "4. [`plt.show()`](command:_github.copilot.openSymbolFromReferences?%5B%22plt.show()%22%2C%5B%7B%22uri%22%3A%7B%22%24mid%22%3A1%2C%22fsPath%22%3A%22%2Fhome%2Fco_nlp_scholar%2FDocuments%2Fcode_workspace%2FPython-getting-started%2FDay-04%2Flearn_numpy.ipynb%22%2C%22external%22%3A%22vscode-notebook-cell%3A%2Fhome%2Fco_nlp_scholar%2FDocuments%2Fcode_workspace%2FPython-getting-started%2FDay-04%2Flearn_numpy.ipynb%23X66sZmlsZQ%253D%253D%22%2C%22path%22%3A%22%2Fhome%2Fco_nlp_scholar%2FDocuments%2Fcode_workspace%2FPython-getting-started%2FDay-04%2Flearn_numpy.ipynb%22%2C%22scheme%22%3A%22vscode-notebook-cell%22%2C%22fragment%22%3A%22X66sZmlsZQ%3D%3D%22%7D%2C%22pos%22%3A%7B%22line%22%3A5%2C%22character%22%3A28%7D%7D%5D%5D \"Go to definition\")\n",
    "   - Function: [`show`](command:_github.copilot.openSymbolFromReferences?%5B%22show%22%2C%5B%7B%22uri%22%3A%7B%22%24mid%22%3A1%2C%22fsPath%22%3A%22%2Fhome%2Fco_nlp_scholar%2FDocuments%2Fcode_workspace%2FPython-getting-started%2FDay-04%2Flearn_numpy.ipynb%22%2C%22external%22%3A%22vscode-notebook-cell%3A%2Fhome%2Fco_nlp_scholar%2FDocuments%2Fcode_workspace%2FPython-getting-started%2FDay-04%2Flearn_numpy.ipynb%23X66sZmlsZQ%253D%253D%22%2C%22path%22%3A%22%2Fhome%2Fco_nlp_scholar%2FDocuments%2Fcode_workspace%2FPython-getting-started%2FDay-04%2Flearn_numpy.ipynb%22%2C%22scheme%22%3A%22vscode-notebook-cell%22%2C%22fragment%22%3A%22X66sZmlsZQ%3D%3D%22%7D%2C%22pos%22%3A%7B%22line%22%3A11%2C%22character%22%3A4%7D%7D%5D%5D \"Go to definition\")\n",
    "   - Arguments: None\n",
    "   - Return type: None\n",
    "\n",
    "5. [`np.add(A, B)`](command:_github.copilot.openSymbolFromReferences?%5B%22np.add(A%2C%20B)%22%2C%5B%7B%22uri%22%3A%7B%22%24mid%22%3A1%2C%22fsPath%22%3A%22%2Fhome%2Fco_nlp_scholar%2FDocuments%2Fcode_workspace%2FPython-getting-started%2FDay-04%2Flearn_numpy.ipynb%22%2C%22external%22%3A%22vscode-notebook-cell%3A%2Fhome%2Fco_nlp_scholar%2FDocuments%2Fcode_workspace%2FPython-getting-started%2FDay-04%2Flearn_numpy.ipynb%23X66sZmlsZQ%253D%253D%22%2C%22path%22%3A%22%2Fhome%2Fco_nlp_scholar%2FDocuments%2Fcode_workspace%2FPython-getting-started%2FDay-04%2Flearn_numpy.ipynb%22%2C%22scheme%22%3A%22vscode-notebook-cell%22%2C%22fragment%22%3A%22X66sZmlsZQ%3D%3D%22%7D%2C%22pos%22%3A%7B%22line%22%3A0%2C%22character%22%3A16%7D%7D%5D%5D \"Go to definition\")\n",
    "   - Function: [`add`](command:_github.copilot.openSymbolFromReferences?%5B%22add%22%2C%5B%7B%22uri%22%3A%7B%22%24mid%22%3A1%2C%22fsPath%22%3A%22%2Fhome%2Fco_nlp_scholar%2FDocuments%2Fcode_workspace%2FPython-getting-started%2FDay-04%2Flearn_numpy.ipynb%22%2C%22external%22%3A%22vscode-notebook-cell%3A%2Fhome%2Fco_nlp_scholar%2FDocuments%2Fcode_workspace%2FPython-getting-started%2FDay-04%2Flearn_numpy.ipynb%23X66sZmlsZQ%253D%253D%22%2C%22path%22%3A%22%2Fhome%2Fco_nlp_scholar%2FDocuments%2Fcode_workspace%2FPython-getting-started%2FDay-04%2Flearn_numpy.ipynb%22%2C%22scheme%22%3A%22vscode-notebook-cell%22%2C%22fragment%22%3A%22X66sZmlsZQ%3D%3D%22%7D%2C%22pos%22%3A%7B%22line%22%3A20%2C%22character%22%3A21%7D%7D%5D%5D \"Go to definition\")\n",
    "   - Arguments:\n",
    "     - [`A`](command:_github.copilot.openSymbolFromReferences?%5B%22A%22%2C%5B%7B%22uri%22%3A%7B%22%24mid%22%3A1%2C%22fsPath%22%3A%22%2Fhome%2Fco_nlp_scholar%2FDocuments%2Fcode_workspace%2FPython-getting-started%2FDay-04%2Flearn_numpy.ipynb%22%2C%22external%22%3A%22vscode-notebook-cell%3A%2Fhome%2Fco_nlp_scholar%2FDocuments%2Fcode_workspace%2FPython-getting-started%2FDay-04%2Flearn_numpy.ipynb%23X66sZmlsZQ%253D%253D%22%2C%22path%22%3A%22%2Fhome%2Fco_nlp_scholar%2FDocuments%2Fcode_workspace%2FPython-getting-started%2FDay-04%2Flearn_numpy.ipynb%22%2C%22scheme%22%3A%22vscode-notebook-cell%22%2C%22fragment%22%3A%22X66sZmlsZQ%3D%3D%22%7D%2C%22pos%22%3A%7B%22line%22%3A3%2C%22character%22%3A0%7D%7D%5D%5D \"Go to definition\"): The first matrix.\n",
    "     - [`B`](command:_github.copilot.openSymbolFromReferences?%5B%22B%22%2C%5B%7B%22uri%22%3A%7B%22%24mid%22%3A1%2C%22fsPath%22%3A%22%2Fhome%2Fco_nlp_scholar%2FDocuments%2Fcode_workspace%2FPython-getting-started%2FDay-04%2Flearn_numpy.ipynb%22%2C%22external%22%3A%22vscode-notebook-cell%3A%2Fhome%2Fco_nlp_scholar%2FDocuments%2Fcode_workspace%2FPython-getting-started%2FDay-04%2Flearn_numpy.ipynb%23X66sZmlsZQ%253D%253D%22%2C%22path%22%3A%22%2Fhome%2Fco_nlp_scholar%2FDocuments%2Fcode_workspace%2FPython-getting-started%2FDay-04%2Flearn_numpy.ipynb%22%2C%22scheme%22%3A%22vscode-notebook-cell%22%2C%22fragment%22%3A%22X66sZmlsZQ%3D%3D%22%7D%2C%22pos%22%3A%7B%22line%22%3A4%2C%22character%22%3A0%7D%7D%5D%5D \"Go to definition\"): The second matrix.\n",
    "   - Return type: `ndarray`\n",
    "\n",
    "6. [`np.subtract(A, B)`](command:_github.copilot.openSymbolFromReferences?%5B%22np.subtract(A%2C%20B)%22%2C%5B%7B%22uri%22%3A%7B%22%24mid%22%3A1%2C%22fsPath%22%3A%22%2Fhome%2Fco_nlp_scholar%2FDocuments%2Fcode_workspace%2FPython-getting-started%2FDay-04%2Flearn_numpy.ipynb%22%2C%22external%22%3A%22vscode-notebook-cell%3A%2Fhome%2Fco_nlp_scholar%2FDocuments%2Fcode_workspace%2FPython-getting-started%2FDay-04%2Flearn_numpy.ipynb%23X66sZmlsZQ%253D%253D%22%2C%22path%22%3A%22%2Fhome%2Fco_nlp_scholar%2FDocuments%2Fcode_workspace%2FPython-getting-started%2FDay-04%2Flearn_numpy.ipynb%22%2C%22scheme%22%3A%22vscode-notebook-cell%22%2C%22fragment%22%3A%22X66sZmlsZQ%3D%3D%22%7D%2C%22pos%22%3A%7B%22line%22%3A0%2C%22character%22%3A16%7D%7D%5D%5D \"Go to definition\")\n",
    "   - Function: [`subtract`](command:_github.copilot.openSymbolFromReferences?%5B%22subtract%22%2C%5B%7B%22uri%22%3A%7B%22%24mid%22%3A1%2C%22fsPath%22%3A%22%2Fhome%2Fco_nlp_scholar%2FDocuments%2Fcode_workspace%2FPython-getting-started%2FDay-04%2Flearn_numpy.ipynb%22%2C%22external%22%3A%22vscode-notebook-cell%3A%2Fhome%2Fco_nlp_scholar%2FDocuments%2Fcode_workspace%2FPython-getting-started%2FDay-04%2Flearn_numpy.ipynb%23X66sZmlsZQ%253D%253D%22%2C%22path%22%3A%22%2Fhome%2Fco_nlp_scholar%2FDocuments%2Fcode_workspace%2FPython-getting-started%2FDay-04%2Flearn_numpy.ipynb%22%2C%22scheme%22%3A%22vscode-notebook-cell%22%2C%22fragment%22%3A%22X66sZmlsZQ%3D%3D%22%7D%2C%22pos%22%3A%7B%22line%22%3A24%2C%22character%22%3A24%7D%7D%5D%5D \"Go to definition\")\n",
    "   - Arguments:\n",
    "     - [`A`](command:_github.copilot.openSymbolFromReferences?%5B%22A%22%2C%5B%7B%22uri%22%3A%7B%22%24mid%22%3A1%2C%22fsPath%22%3A%22%2Fhome%2Fco_nlp_scholar%2FDocuments%2Fcode_workspace%2FPython-getting-started%2FDay-04%2Flearn_numpy.ipynb%22%2C%22external%22%3A%22vscode-notebook-cell%3A%2Fhome%2Fco_nlp_scholar%2FDocuments%2Fcode_workspace%2FPython-getting-started%2FDay-04%2Flearn_numpy.ipynb%23X66sZmlsZQ%253D%253D%22%2C%22path%22%3A%22%2Fhome%2Fco_nlp_scholar%2FDocuments%2Fcode_workspace%2FPython-getting-started%2FDay-04%2Flearn_numpy.ipynb%22%2C%22scheme%22%3A%22vscode-notebook-cell%22%2C%22fragment%22%3A%22X66sZmlsZQ%3D%3D%22%7D%2C%22pos%22%3A%7B%22line%22%3A3%2C%22character%22%3A0%7D%7D%5D%5D \"Go to definition\"): The first matrix.\n",
    "     - [`B`](command:_github.copilot.openSymbolFromReferences?%5B%22B%22%2C%5B%7B%22uri%22%3A%7B%22%24mid%22%3A1%2C%22fsPath%22%3A%22%2Fhome%2Fco_nlp_scholar%2FDocuments%2Fcode_workspace%2FPython-getting-started%2FDay-04%2Flearn_numpy.ipynb%22%2C%22external%22%3A%22vscode-notebook-cell%3A%2Fhome%2Fco_nlp_scholar%2FDocuments%2Fcode_workspace%2FPython-getting-started%2FDay-04%2Flearn_numpy.ipynb%23X66sZmlsZQ%253D%253D%22%2C%22path%22%3A%22%2Fhome%2Fco_nlp_scholar%2FDocuments%2Fcode_workspace%2FPython-getting-started%2FDay-04%2Flearn_numpy.ipynb%22%2C%22scheme%22%3A%22vscode-notebook-cell%22%2C%22fragment%22%3A%22X66sZmlsZQ%3D%3D%22%7D%2C%22pos%22%3A%7B%22line%22%3A4%2C%22character%22%3A0%7D%7D%5D%5D \"Go to definition\"): The second matrix.\n",
    "   - Return type: `ndarray`\n",
    "\n",
    "7. [`np.multiply(A, B)`](command:_github.copilot.openSymbolFromReferences?%5B%22np.multiply(A%2C%20B)%22%2C%5B%7B%22uri%22%3A%7B%22%24mid%22%3A1%2C%22fsPath%22%3A%22%2Fhome%2Fco_nlp_scholar%2FDocuments%2Fcode_workspace%2FPython-getting-started%2FDay-04%2Flearn_numpy.ipynb%22%2C%22external%22%3A%22vscode-notebook-cell%3A%2Fhome%2Fco_nlp_scholar%2FDocuments%2Fcode_workspace%2FPython-getting-started%2FDay-04%2Flearn_numpy.ipynb%23X66sZmlsZQ%253D%253D%22%2C%22path%22%3A%22%2Fhome%2Fco_nlp_scholar%2FDocuments%2Fcode_workspace%2FPython-getting-started%2FDay-04%2Flearn_numpy.ipynb%22%2C%22scheme%22%3A%22vscode-notebook-cell%22%2C%22fragment%22%3A%22X66sZmlsZQ%3D%3D%22%7D%2C%22pos%22%3A%7B%22line%22%3A0%2C%22character%22%3A16%7D%7D%5D%5D \"Go to definition\")\n",
    "   - Function: [`multiply`](command:_github.copilot.openSymbolFromReferences?%5B%22multiply%22%2C%5B%7B%22uri%22%3A%7B%22%24mid%22%3A1%2C%22fsPath%22%3A%22%2Fhome%2Fco_nlp_scholar%2FDocuments%2Fcode_workspace%2FPython-getting-started%2FDay-04%2Flearn_numpy.ipynb%22%2C%22external%22%3A%22vscode-notebook-cell%3A%2Fhome%2Fco_nlp_scholar%2FDocuments%2Fcode_workspace%2FPython-getting-started%2FDay-04%2Flearn_numpy.ipynb%23X66sZmlsZQ%253D%253D%22%2C%22path%22%3A%22%2Fhome%2Fco_nlp_scholar%2FDocuments%2Fcode_workspace%2FPython-getting-started%2FDay-04%2Flearn_numpy.ipynb%22%2C%22scheme%22%3A%22vscode-notebook-cell%22%2C%22fragment%22%3A%22X66sZmlsZQ%3D%3D%22%7D%2C%22pos%22%3A%7B%22line%22%3A28%2C%22character%22%3A32%7D%7D%5D%5D \"Go to definition\")\n",
    "   - Arguments:\n",
    "     - [`A`](command:_github.copilot.openSymbolFromReferences?%5B%22A%22%2C%5B%7B%22uri%22%3A%7B%22%24mid%22%3A1%2C%22fsPath%22%3A%22%2Fhome%2Fco_nlp_scholar%2FDocuments%2Fcode_workspace%2FPython-getting-started%2FDay-04%2Flearn_numpy.ipynb%22%2C%22external%22%3A%22vscode-notebook-cell%3A%2Fhome%2Fco_nlp_scholar%2FDocuments%2Fcode_workspace%2FPython-getting-started%2FDay-04%2Flearn_numpy.ipynb%23X66sZmlsZQ%253D%253D%22%2C%22path%22%3A%22%2Fhome%2Fco_nlp_scholar%2FDocuments%2Fcode_workspace%2FPython-getting-started%2FDay-04%2Flearn_numpy.ipynb%22%2C%22scheme%22%3A%22vscode-notebook-cell%22%2C%22fragment%22%3A%22X66sZmlsZQ%3D%3D%22%7D%2C%22pos%22%3A%7B%22line%22%3A3%2C%22character%22%3A0%7D%7D%5D%5D \"Go to definition\"): The first matrix.\n",
    "     - [`B`](command:_github.copilot.openSymbolFromReferences?%5B%22B%22%2C%5B%7B%22uri%22%3A%7B%22%24mid%22%3A1%2C%22fsPath%22%3A%22%2Fhome%2Fco_nlp_scholar%2FDocuments%2Fcode_workspace%2FPython-getting-started%2FDay-04%2Flearn_numpy.ipynb%22%2C%22external%22%3A%22vscode-notebook-cell%3A%2Fhome%2Fco_nlp_scholar%2FDocuments%2Fcode_workspace%2FPython-getting-started%2FDay-04%2Flearn_numpy.ipynb%23X66sZmlsZQ%253D%253D%22%2C%22path%22%3A%22%2Fhome%2Fco_nlp_scholar%2FDocuments%2Fcode_workspace%2FPython-getting-started%2FDay-04%2Flearn_numpy.ipynb%22%2C%22scheme%22%3A%22vscode-notebook-cell%22%2C%22fragment%22%3A%22X66sZmlsZQ%3D%3D%22%7D%2C%22pos%22%3A%7B%22line%22%3A4%2C%22character%22%3A0%7D%7D%5D%5D \"Go to definition\"): The second matrix.\n",
    "   - Return type: `ndarray`\n",
    "\n",
    "8. [`np.dot(A, B)`](command:_github.copilot.openSymbolFromReferences?%5B%22np.dot(A%2C%20B)%22%2C%5B%7B%22uri%22%3A%7B%22%24mid%22%3A1%2C%22fsPath%22%3A%22%2Fhome%2Fco_nlp_scholar%2FDocuments%2Fcode_workspace%2FPython-getting-started%2FDay-04%2Flearn_numpy.ipynb%22%2C%22external%22%3A%22vscode-notebook-cell%3A%2Fhome%2Fco_nlp_scholar%2FDocuments%2Fcode_workspace%2FPython-getting-started%2FDay-04%2Flearn_numpy.ipynb%23X66sZmlsZQ%253D%253D%22%2C%22path%22%3A%22%2Fhome%2Fco_nlp_scholar%2FDocuments%2Fcode_workspace%2FPython-getting-started%2FDay-04%2Flearn_numpy.ipynb%22%2C%22scheme%22%3A%22vscode-notebook-cell%22%2C%22fragment%22%3A%22X66sZmlsZQ%3D%3D%22%7D%2C%22pos%22%3A%7B%22line%22%3A0%2C%22character%22%3A16%7D%7D%5D%5D \"Go to definition\")\n",
    "   - Function: [`dot`](command:_github.copilot.openSymbolFromReferences?%5B%22dot%22%2C%5B%7B%22uri%22%3A%7B%22%24mid%22%3A1%2C%22fsPath%22%3A%22%2Fhome%2Fco_nlp_scholar%2FDocuments%2Fcode_workspace%2FPython-getting-started%2FDay-04%2Flearn_numpy.ipynb%22%2C%22external%22%3A%22vscode-notebook-cell%3A%2Fhome%2Fco_nlp_scholar%2FDocuments%2Fcode_workspace%2FPython-getting-started%2FDay-04%2Flearn_numpy.ipynb%23X66sZmlsZQ%253D%253D%22%2C%22path%22%3A%22%2Fhome%2Fco_nlp_scholar%2FDocuments%2Fcode_workspace%2FPython-getting-started%2FDay-04%2Flearn_numpy.ipynb%22%2C%22scheme%22%3A%22vscode-notebook-cell%22%2C%22fragment%22%3A%22X66sZmlsZQ%3D%3D%22%7D%2C%22pos%22%3A%7B%22line%22%3A32%2C%22character%22%3A17%7D%7D%5D%5D \"Go to definition\")\n",
    "   - Arguments:\n",
    "     - [`A`](command:_github.copilot.openSymbolFromReferences?%5B%22A%22%2C%5B%7B%22uri%22%3A%7B%22%24mid%22%3A1%2C%22fsPath%22%3A%22%2Fhome%2Fco_nlp_scholar%2FDocuments%2Fcode_workspace%2FPython-getting-started%2FDay-04%2Flearn_numpy.ipynb%22%2C%22external%22%3A%22vscode-notebook-cell%3A%2Fhome%2Fco_nlp_scholar%2FDocuments%2Fcode_workspace%2FPython-getting-started%2FDay-04%2Flearn_numpy.ipynb%23X66sZmlsZQ%253D%253D%22%2C%22path%22%3A%22%2Fhome%2Fco_nlp_scholar%2FDocuments%2Fcode_workspace%2FPython-getting-started%2FDay-04%2Flearn_numpy.ipynb%22%2C%22scheme%22%3A%22vscode-notebook-cell%22%2C%22fragment%22%3A%22X66sZmlsZQ%3D%3D%22%7D%2C%22pos%22%3A%7B%22line%22%3A3%2C%22character%22%3A0%7D%7D%5D%5D \"Go to definition\"): The first matrix.\n",
    "     - [`B`](command:_github.copilot.openSymbolFromReferences?%5B%22B%22%2C%5B%7B%22uri%22%3A%7B%22%24mid%22%3A1%2C%22fsPath%22%3A%22%2Fhome%2Fco_nlp_scholar%2FDocuments%2Fcode_workspace%2FPython-getting-started%2FDay-04%2Flearn_numpy.ipynb%22%2C%22external%22%3A%22vscode-notebook-cell%3A%2Fhome%2Fco_nlp_scholar%2FDocuments%2Fcode_workspace%2FPython-getting-started%2FDay-04%2Flearn_numpy.ipynb%23X66sZmlsZQ%253D%253D%22%2C%22path%22%3A%22%2Fhome%2Fco_nlp_scholar%2FDocuments%2Fcode_workspace%2FPython-getting-started%2FDay-04%2Flearn_numpy.ipynb%22%2C%22scheme%22%3A%22vscode-notebook-cell%22%2C%22fragment%22%3A%22X66sZmlsZQ%3D%3D%22%7D%2C%22pos%22%3A%7B%22line%22%3A4%2C%22character%22%3A0%7D%7D%5D%5D \"Go to definition\"): The second matrix.\n",
    "   - Return type: `ndarray`\n",
    "\n",
    "9. [`np.transpose(A)`](command:_github.copilot.openSymbolFromReferences?%5B%22np.transpose(A)%22%2C%5B%7B%22uri%22%3A%7B%22%24mid%22%3A1%2C%22fsPath%22%3A%22%2Fhome%2Fco_nlp_scholar%2FDocuments%2Fcode_workspace%2FPython-getting-started%2FDay-04%2Flearn_numpy.ipynb%22%2C%22external%22%3A%22vscode-notebook-cell%3A%2Fhome%2Fco_nlp_scholar%2FDocuments%2Fcode_workspace%2FPython-getting-started%2FDay-04%2Flearn_numpy.ipynb%23X66sZmlsZQ%253D%253D%22%2C%22path%22%3A%22%2Fhome%2Fco_nlp_scholar%2FDocuments%2Fcode_workspace%2FPython-getting-started%2FDay-04%2Flearn_numpy.ipynb%22%2C%22scheme%22%3A%22vscode-notebook-cell%22%2C%22fragment%22%3A%22X66sZmlsZQ%3D%3D%22%7D%2C%22pos%22%3A%7B%22line%22%3A0%2C%22character%22%3A16%7D%7D%5D%5D \"Go to definition\")\n",
    "   - Function: [`transpose`](command:_github.copilot.openSymbolFromReferences?%5B%22transpose%22%2C%5B%7B%22uri%22%3A%7B%22%24mid%22%3A1%2C%22fsPath%22%3A%22%2Fhome%2Fco_nlp_scholar%2FDocuments%2Fcode_workspace%2FPython-getting-started%2FDay-04%2Flearn_numpy.ipynb%22%2C%22external%22%3A%22vscode-notebook-cell%3A%2Fhome%2Fco_nlp_scholar%2FDocuments%2Fcode_workspace%2FPython-getting-started%2FDay-04%2Flearn_numpy.ipynb%23X66sZmlsZQ%253D%253D%22%2C%22path%22%3A%22%2Fhome%2Fco_nlp_scholar%2FDocuments%2Fcode_workspace%2FPython-getting-started%2FDay-04%2Flearn_numpy.ipynb%22%2C%22scheme%22%3A%22vscode-notebook-cell%22%2C%22fragment%22%3A%22X66sZmlsZQ%3D%3D%22%7D%2C%22pos%22%3A%7B%22line%22%3A36%2C%22character%22%3A17%7D%7D%5D%5D \"Go to definition\")\n",
    "   - Arguments:\n",
    "     - [`A`](command:_github.copilot.openSymbolFromReferences?%5B%22A%22%2C%5B%7B%22uri%22%3A%7B%22%24mid%22%3A1%2C%22fsPath%22%3A%22%2Fhome%2Fco_nlp_scholar%2FDocuments%2Fcode_workspace%2FPython-getting-started%2FDay-04%2Flearn_numpy.ipynb%22%2C%22external%22%3A%22vscode-notebook-cell%3A%2Fhome%2Fco_nlp_scholar%2FDocuments%2Fcode_workspace%2FPython-getting-started%2FDay-04%2Flearn_numpy.ipynb%23X66sZmlsZQ%253D%253D%22%2C%22path%22%3A%22%2Fhome%2Fco_nlp_scholar%2FDocuments%2Fcode_workspace%2FPython-getting-started%2FDay-04%2Flearn_numpy.ipynb%22%2C%22scheme%22%3A%22vscode-notebook-cell%22%2C%22fragment%22%3A%22X66sZmlsZQ%3D%3D%22%7D%2C%22pos%22%3A%7B%22line%22%3A3%2C%22character%22%3A0%7D%7D%5D%5D \"Go to definition\"): The matrix to be transposed.\n",
    "   - Return type: `ndarray`\n",
    "\n",
    "10. [`np.linalg.inv(A)`](command:_github.copilot.openSymbolFromReferences?%5B%22np.linalg.inv(A)%22%2C%5B%7B%22uri%22%3A%7B%22%24mid%22%3A1%2C%22fsPath%22%3A%22%2Fhome%2Fco_nlp_scholar%2FDocuments%2Fcode_workspace%2FPython-getting-started%2FDay-04%2Flearn_numpy.ipynb%22%2C%22external%22%3A%22vscode-notebook-cell%3A%2Fhome%2Fco_nlp_scholar%2FDocuments%2Fcode_workspace%2FPython-getting-started%2FDay-04%2Flearn_numpy.ipynb%23X66sZmlsZQ%253D%253D%22%2C%22path%22%3A%22%2Fhome%2Fco_nlp_scholar%2FDocuments%2Fcode_workspace%2FPython-getting-started%2FDay-04%2Flearn_numpy.ipynb%22%2C%22scheme%22%3A%22vscode-notebook-cell%22%2C%22fragment%22%3A%22X66sZmlsZQ%3D%3D%22%7D%2C%22pos%22%3A%7B%22line%22%3A0%2C%22character%22%3A16%7D%7D%5D%5D \"Go to definition\")\n",
    "    - Function: [`inv`](command:_github.copilot.openSymbolFromReferences?%5B%22inv%22%2C%5B%7B%22uri%22%3A%7B%22%24mid%22%3A1%2C%22fsPath%22%3A%22%2Fhome%2Fco_nlp_scholar%2FDocuments%2Fcode_workspace%2FPython-getting-started%2FDay-04%2Flearn_numpy.ipynb%22%2C%22external%22%3A%22vscode-notebook-cell%3A%2Fhome%2Fco_nlp_scholar%2FDocuments%2Fcode_workspace%2FPython-getting-started%2FDay-04%2Flearn_numpy.ipynb%23X66sZmlsZQ%253D%253D%22%2C%22path%22%3A%22%2Fhome%2Fco_nlp_scholar%2FDocuments%2Fcode_workspace%2FPython-getting-started%2FDay-04%2Flearn_numpy.ipynb%22%2C%22scheme%22%3A%22vscode-notebook-cell%22%2C%22fragment%22%3A%22X66sZmlsZQ%3D%3D%22%7D%2C%22pos%22%3A%7B%22line%22%3A41%2C%22character%22%3A26%7D%7D%5D%5D \"Go to definition\")\n",
    "    - Arguments:\n",
    "      - [`A`](command:_github.copilot.openSymbolFromReferences?%5B%22A%22%2C%5B%7B%22uri%22%3A%7B%22%24mid%22%3A1%2C%22fsPath%22%3A%22%2Fhome%2Fco_nlp_scholar%2FDocuments%2Fcode_workspace%2FPython-getting-started%2FDay-04%2Flearn_numpy.ipynb%22%2C%22external%22%3A%22vscode-notebook-cell%3A%2Fhome%2Fco_nlp_scholar%2FDocuments%2Fcode_workspace%2FPython-getting-started%2FDay-04%2Flearn_numpy.ipynb%23X66sZmlsZQ%253D%253D%22%2C%22path%22%3A%22%2Fhome%2Fco_nlp_scholar%2FDocuments%2Fcode_workspace%2FPython-getting-started%2FDay-04%2Flearn_numpy.ipynb%22%2C%22scheme%22%3A%22vscode-notebook-cell%22%2C%22fragment%22%3A%22X66sZmlsZQ%3D%3D%22%7D%2C%22pos%22%3A%7B%22line%22%3A3%2C%22character%22%3A0%7D%7D%5D%5D \"Go to definition\"): The matrix to be inverted.\n",
    "    - Return type: `ndarray`\n",
    "\n",
    "11. [`np.linalg.det(A)`](command:_github.copilot.openSymbolFromReferences?%5B%22np.linalg.det(A)%22%2C%5B%7B%22uri%22%3A%7B%22%24mid%22%3A1%2C%22fsPath%22%3A%22%2Fhome%2Fco_nlp_scholar%2FDocuments%2Fcode_workspace%2FPython-getting-started%2FDay-04%2Flearn_numpy.ipynb%22%2C%22external%22%3A%22vscode-notebook-cell%3A%2Fhome%2Fco_nlp_scholar%2FDocuments%2Fcode_workspace%2FPython-getting-started%2FDay-04%2Flearn_numpy.ipynb%23X66sZmlsZQ%253D%253D%22%2C%22path%22%3A%22%2Fhome%2Fco_nlp_scholar%2FDocuments%2Fcode_workspace%2FPython-getting-started%2FDay-04%2Flearn_numpy.ipynb%22%2C%22scheme%22%3A%22vscode-notebook-cell%22%2C%22fragment%22%3A%22X66sZmlsZQ%3D%3D%22%7D%2C%22pos%22%3A%7B%22line%22%3A0%2C%22character%22%3A16%7D%7D%5D%5D \"Go to definition\")\n",
    "    - Function: [`det`](command:_github.copilot.openSymbolFromReferences?%5B%22det%22%2C%5B%7B%22uri%22%3A%7B%22%24mid%22%3A1%2C%22fsPath%22%3A%22%2Fhome%2Fco_nlp_scholar%2FDocuments%2Fcode_workspace%2FPython-getting-started%2FDay-04%2Flearn_numpy.ipynb%22%2C%22external%22%3A%22vscode-notebook-cell%3A%2Fhome%2Fco_nlp_scholar%2FDocuments%2Fcode_workspace%2FPython-getting-started%2FDay-04%2Flearn_numpy.ipynb%23X66sZmlsZQ%253D%253D%22%2C%22path%22%3A%22%2Fhome%2Fco_nlp_scholar%2FDocuments%2Fcode_workspace%2FPython-getting-started%2FDay-04%2Flearn_numpy.ipynb%22%2C%22scheme%22%3A%22vscode-notebook-cell%22%2C%22fragment%22%3A%22X66sZmlsZQ%3D%3D%22%7D%2C%22pos%22%3A%7B%22line%22%3A47%2C%22character%22%3A26%7D%7D%5D%5D \"Go to definition\")\n",
    "    - Arguments:\n",
    "      - [`A`](command:_github.copilot.openSymbolFromReferences?%5B%22A%22%2C%5B%7B%22uri%22%3A%7B%22%24mid%22%3A1%2C%22fsPath%22%3A%22%2Fhome%2Fco_nlp_scholar%2FDocuments%2Fcode_workspace%2FPython-getting-started%2FDay-04%2Flearn_numpy.ipynb%22%2C%22external%22%3A%22vscode-notebook-cell%3A%2Fhome%2Fco_nlp_scholar%2FDocuments%2Fcode_workspace%2FPython-getting-started%2FDay-04%2Flearn_numpy.ipynb%23X66sZmlsZQ%253D%253D%22%2C%22path%22%3A%22%2Fhome%2Fco_nlp_scholar%2FDocuments%2Fcode_workspace%2FPython-getting-started%2FDay-04%2Flearn_numpy.ipynb%22%2C%22scheme%22%3A%22vscode-notebook-cell%22%2C%22fragment%22%3A%22X66sZmlsZQ%3D%3D%22%7D%2C%22pos%22%3A%7B%22line%22%3A3%2C%22character%22%3A0%7D%7D%5D%5D \"Go to definition\"): The matrix for which the determinant is calculated.\n",
    "    - Return type: `float`\n",
    "\n",
    "12. [`np.linalg.matrix_rank(A)`](command:_github.copilot.openSymbolFromReferences?%5B%22np.linalg.matrix_rank(A)%22%2C%5B%7B%22uri%22%3A%7B%22%24mid%22%3A1%2C%22fsPath%22%3A%22%2Fhome%2Fco_nlp_scholar%2FDocuments%2Fcode_workspace%2FPython-getting-started%2FDay-04%2Flearn_numpy.ipynb%22%2C%22external%22%3A%22vscode-notebook-cell%3A%2Fhome%2Fco_nlp_scholar%2FDocuments%2Fcode_workspace%2FPython-getting-started%2FDay-04%2Flearn_numpy.ipynb%23X66sZmlsZQ%253D%253D%22%2C%22path%22%3A%22%2Fhome%2Fco_nlp_scholar%2FDocuments%2Fcode_workspace%2FPython-getting-started%2FDay-04%2Flearn_numpy.ipynb%22%2C%22scheme%22%3A%22vscode-notebook-cell%22%2C%22fragment%22%3A%22X66sZmlsZQ%3D%3D%22%7D%2C%22pos%22%3A%7B%22line%22%3A0%2C%22character%22%3A16%7D%7D%5D%5D \"Go to definition\")\n",
    "    - Function: [`matrix_rank`](command:_github.copilot.openSymbolFromReferences?%5B%22matrix_rank%22%2C%5B%7B%22uri%22%3A%7B%22%24mid%22%3A1%2C%22fsPath%22%3A%22%2Fhome%2Fco_nlp_scholar%2FDocuments%2Fcode_workspace%2FPython-getting-started%2FDay-04%2Flearn_numpy.ipynb%22%2C%22external%22%3A%22vscode-notebook-cell%3A%2Fhome%2Fco_nlp_scholar%2FDocuments%2Fcode_workspace%2FPython-getting-started%2FDay-04%2Flearn_numpy.ipynb%23X66sZmlsZQ%253D%253D%22%2C%22path%22%3A%22%2Fhome%2Fco_nlp_scholar%2FDocuments%2Fcode_workspace%2FPython-getting-started%2FDay-04%2Flearn_numpy.ipynb%22%2C%22scheme%22%3A%22vscode-notebook-cell%22%2C%22fragment%22%3A%22X66sZmlsZQ%3D%3D%22%7D%2C%22pos%22%3A%7B%22line%22%3A51%2C%22character%22%3A19%7D%7D%5D%5D \"Go to definition\")\n",
    "    - Arguments:\n",
    "      - [`A`](command:_github.copilot.openSymbolFromReferences?%5B%22A%22%2C%5B%7B%22uri%22%3A%7B%22%24mid%22%3A1%2C%22fsPath%22%3A%22%2Fhome%2Fco_nlp_scholar%2FDocuments%2Fcode_workspace%2FPython-getting-started%2FDay-04%2Flearn_numpy.ipynb%22%2C%22external%22%3A%22vscode-notebook-cell%3A%2Fhome%2Fco_nlp_scholar%2FDocuments%2Fcode_workspace%2FPython-getting-started%2FDay-04%2Flearn_numpy.ipynb%23X66sZmlsZQ%253D%253D%22%2C%22path%22%3A%22%2Fhome%2Fco_nlp_scholar%2FDocuments%2Fcode_workspace%2FPython-getting-started%2FDay-04%2Flearn_numpy.ipynb%22%2C%22scheme%22%3A%22vscode-notebook-cell%22%2C%22fragment%22%3A%22X66sZmlsZQ%3D%3D%22%7D%2C%22pos%22%3A%7B%22line%22%3A3%2C%22character%22%3A0%7D%7D%5D%5D \"Go to definition\"): The matrix for which the rank is calculated.\n",
    "    - Return type: `int`\n",
    "\n",
    "13. [`np.linalg.eig(A)`](command:_github.copilot.openSymbolFromReferences?%5B%22np.linalg.eig(A)%22%2C%5B%7B%22uri%22%3A%7B%22%24mid%22%3A1%2C%22fsPath%22%3A%22%2Fhome%2Fco_nlp_scholar%2FDocuments%2Fcode_workspace%2FPython-getting-started%2FDay-04%2Flearn_numpy.ipynb%22%2C%22external%22%3A%22vscode-notebook-cell%3A%2Fhome%2Fco_nlp_scholar%2FDocuments%2Fcode_workspace%2FPython-getting-started%2FDay-04%2Flearn_numpy.ipynb%23X66sZmlsZQ%253D%253D%22%2C%22path%22%3A%22%2Fhome%2Fco_nlp_scholar%2FDocuments%2Fcode_workspace%2FPython-getting-started%2FDay-04%2Flearn_numpy.ipynb%22%2C%22scheme%22%3A%22vscode-notebook-cell%22%2C%22fragment%22%3A%22X66sZmlsZQ%3D%3D%22%7D%2C%22pos%22%3A%7B%22line%22%3A0%2C%22character%22%3A16%7D%7D%5D%5D \"Go to definition\")\n",
    "    - Function: [`eig`](command:_github.copilot.openSymbolFromReferences?%5B%22eig%22%2C%5B%7B%22uri%22%3A%7B%22%24mid%22%3A1%2C%22fsPath%22%3A%22%2Fhome%2Fco_nlp_scholar%2FDocuments%2Fcode_workspace%2FPython-getting-started%2FDay-04%2Flearn_numpy.ipynb%22%2C%22external%22%3A%22vscode-notebook-cell%3A%2Fhome%2Fco_nlp_scholar%2FDocuments%2Fcode_workspace%2FPython-getting-started%2FDay-04%2Flearn_numpy.ipynb%23X66sZmlsZQ%253D%253D%22%2C%22path%22%3A%22%2Fhome%2Fco_nlp_scholar%2FDocuments%2Fcode_workspace%2FPython-getting-started%2FDay-04%2Flearn_numpy.ipynb%22%2C%22scheme%22%3A%22vscode-notebook-cell%22%2C%22fragment%22%3A%22X66sZmlsZQ%3D%3D%22%7D%2C%22pos%22%3A%7B%22line%22%3A55%2C%22character%22%3A38%7D%7D%5D%5D \"Go to definition\")\n",
    "    - Arguments:\n",
    "      - [`A`](command:_github.copilot.openSymbolFromReferences?%5B%22A%22%2C%5B%7B%22uri%22%3A%7B%22%24mid%22%3A1%2C%22fsPath%22%3A%22%2Fhome%2Fco_nlp_scholar%2FDocuments%2Fcode_workspace%2FPython-getting-started%2FDay-04%2Flearn_numpy.ipynb%22%2C%22external%22%3A%22vscode-notebook-cell%3A%2Fhome%2Fco_nlp_scholar%2FDocuments%2Fcode_workspace%2FPython-getting-started%2FDay-04%2Flearn_numpy.ipynb%23X66sZmlsZQ%253D%253D%22%2C%22path%22%3A%22%2Fhome%2Fco_nlp_scholar%2FDocuments%2Fcode_workspace%2FPython-getting-started%2FDay-04%2Flearn_numpy.ipynb%22%2C%22scheme%22%3A%22vscode-notebook-cell%22%2C%22fragment%22%3A%22X66sZmlsZQ%3D%3D%22%7D%2C%22pos%22%3A%7B%22line%22%3A3%2C%22character%22%3A0%7D%7D%5D%5D \"Go to definition\"): The matrix for which eigenvalues and eigenvectors are calculated.\n",
    "    - Return type:\n",
    "      - [`eigenvalues`](command:_github.copilot.openSymbolFromReferences?%5B%22eigenvalues%22%2C%5B%7B%22uri%22%3A%7B%22%24mid%22%3A1%2C%22fsPath%22%3A%22%2Fhome%2Fco_nlp_scholar%2FDocuments%2Fcode_workspace%2FPython-getting-started%2FDay-04%2Flearn_numpy.ipynb%22%2C%22external%22%3A%22vscode-notebook-cell%3A%2Fhome%2Fco_nlp_scholar%2FDocuments%2Fcode_workspace%2FPython-getting-started%2FDay-04%2Flearn_numpy.ipynb%23X66sZmlsZQ%253D%253D%22%2C%22path%22%3A%22%2Fhome%2Fco_nlp_scholar%2FDocuments%2Fcode_workspace%2FPython-getting-started%2FDay-04%2Flearn_numpy.ipynb%22%2C%22scheme%22%3A%22vscode-notebook-cell%22%2C%22fragment%22%3A%22X66sZmlsZQ%3D%3D%22%7D%2C%22pos%22%3A%7B%22line%22%3A55%2C%22character%22%3A0%7D%7D%5D%5D \"Go to definition\"): `ndarray`\n",
    "      - [`eigenvectors`](command:_github.copilot.openSymbolFromReferences?%5B%22eigenvectors%22%2C%5B%7B%22uri%22%3A%7B%22%24mid%22%3A1%2C%22fsPath%22%3A%22%2Fhome%2Fco_nlp_scholar%2FDocuments%2Fcode_workspace%2FPython-getting-started%2FDay-04%2Flearn_numpy.ipynb%22%2C%22external%22%3A%22vscode-notebook-cell%3A%2Fhome%2Fco_nlp_scholar%2FDocuments%2Fcode_workspace%2FPython-getting-started%2FDay-04%2Flearn_numpy.ipynb%23X66sZmlsZQ%253D%253D%22%2C%22path%22%3A%22%2Fhome%2Fco_nlp_scholar%2FDocuments%2Fcode_workspace%2FPython-getting-started%2FDay-04%2Flearn_numpy.ipynb%22%2C%22scheme%22%3A%22vscode-notebook-cell%22%2C%22fragment%22%3A%22X66sZmlsZQ%3D%3D%22%7D%2C%22pos%22%3A%7B%22line%22%3A55%2C%22character%22%3A13%7D%7D%5D%5D \"Go to definition\"): `ndarray`\n",
    "\n",
    "14. [`np.trace(A)`](command:_github.copilot.openSymbolFromReferences?%5B%22np.trace(A)%22%2C%5B%7B%22uri%22%3A%7B%22%24mid%22%3A1%2C%22fsPath%22%3A%22%2Fhome%2Fco_nlp_scholar%2FDocuments%2Fcode_workspace%2FPython-getting-started%2FDay-04%2Flearn_numpy.ipynb%22%2C%22external%22%3A%22vscode-notebook-cell%3A%2Fhome%2Fco_nlp_scholar%2FDocuments%2Fcode_workspace%2FPython-getting-started%2FDay-04%2Flearn_numpy.ipynb%23X66sZmlsZQ%253D%253D%22%2C%22path%22%3A%22%2Fhome%2Fco_nlp_scholar%2FDocuments%2Fcode_workspace%2FPython-getting-started%2FDay-04%2Flearn_numpy.ipynb%22%2C%22scheme%22%3A%22vscode-notebook-cell%22%2C%22fragment%22%3A%22X66sZmlsZQ%3D%3D%22%7D%2C%22pos%22%3A%7B%22line%22%3A0%2C%22character%22%3A16%7D%7D%5D%5D \"Go to definition\")\n",
    "    - Function: [`trace`](command:_github.copilot.openSymbolFromReferences?%5B%22trace%22%2C%5B%7B%22uri%22%3A%7B%22%24mid%22%3A1%2C%22fsPath%22%3A%22%2Fhome%2Fco_nlp_scholar%2FDocuments%2Fcode_workspace%2FPython-getting-started%2FDay-04%2Flearn_numpy.ipynb%22%2C%22external%22%3A%22vscode-notebook-cell%3A%2Fhome%2Fco_nlp_scholar%2FDocuments%2Fcode_workspace%2FPython-getting-started%2FDay-04%2Flearn_numpy.ipynb%23X66sZmlsZQ%253D%253D%22%2C%22path%22%3A%22%2Fhome%2Fco_nlp_scholar%2FDocuments%2Fcode_workspace%2FPython-getting-started%2FDay-04%2Flearn_numpy.ipynb%22%2C%22scheme%22%3A%22vscode-notebook-cell%22%2C%22fragment%22%3A%22X66sZmlsZQ%3D%3D%22%7D%2C%22pos%22%3A%7B%22line%22%3A60%2C%22character%22%3A13%7D%7D%5D%5D \"Go to definition\")\n",
    "    - Arguments:\n",
    "      - [`A`](command:_github.copilot.openSymbolFromReferences?%5B%22A%22%2C%5B%7B%22uri%22%3A%7B%22%24mid%22%3A1%2C%22fsPath%22%3A%22%2Fhome%2Fco_nlp_scholar%2FDocuments%2Fcode_workspace%2FPython-getting-started%2FDay-04%2Flearn_numpy.ipynb%22%2C%22external%22%3A%22vscode-notebook-cell%3A%2Fhome%2Fco_nlp_scholar%2FDocuments%2Fcode_workspace%2FPython-getting-started%2FDay-04%2Flearn_numpy.ipynb%23X66sZmlsZQ%253D%253D%22%2C%22path%22%3A%22%2Fhome%2Fco_nlp_scholar%2FDocuments%2Fcode_workspace%2FPython-getting-started%2FDay-04%2Flearn_numpy.ipynb%22%2C%22scheme%22%3A%22vscode-notebook-cell%22%2C%22fragment%22%3A%22X66sZmlsZQ%3D%3D%22%7D%2C%22pos%22%3A%7B%22line%22%3A3%2C%22character%22%3A0%7D%7D%5D%5D \"Go to definition\"): The matrix for which the trace is calculated.\n",
    "    - Return type: `float`\n",
    "\n",
    "15. [`np.linalg.solve(A, B)`](command:_github.copilot.openSymbolFromReferences?%5B%22np.linalg.solve(A%2C%20B)%22%2C%5B%7B%22uri%22%3A%7B%22%24mid%22%3A1%2C%22fsPath%22%3A%22%2Fhome%2Fco_nlp_scholar%2FDocuments%2Fcode_workspace%2FPython-getting-started%2FDay-04%2Flearn_numpy.ipynb%22%2C%22external%22%3A%22vscode-notebook-cell%3A%2Fhome%2Fco_nlp_scholar%2FDocuments%2Fcode_workspace%2FPython-getting-started%2FDay-04%2Flearn_numpy.ipynb%23X66sZmlsZQ%253D%253D%22%2C%22path%22%3A%22%2Fhome%2Fco_nlp_scholar%2FDocuments%2Fcode_workspace%2FPython-getting-started%2FDay-04%2Flearn_numpy.ipynb%22%2C%22scheme%22%3A%22vscode-notebook-cell%22%2C%22fragment%22%3A%22X66sZmlsZQ%3D%3D%22%7D%2C%22pos%22%3A%7B%22line%22%3A0%2C%22character%22%3A16%7D%7D%5D%5D \"Go to definition\")\n",
    "    - Function: [`solve`](command:_github.copilot.openSymbolFromReferences?%5B%22solve%22%2C%5B%7B%22uri%22%3A%7B%22%24mid%22%3A1%2C%22fsPath%22%3A%22%2Fhome%2Fco_nlp_scholar%2FDocuments%2Fcode_workspace%2FPython-getting-started%2FDay-04%2Flearn_numpy.ipynb%22%2C%22external%22%3A%22vscode-notebook-cell%3A%2Fhome%2Fco_nlp_scholar%2FDocuments%2Fcode_workspace%2FPython-getting-started%2FDay-04%2Flearn_numpy.ipynb%23X66sZmlsZQ%253D%253D%22%2C%22path%22%3A%22%2Fhome%2Fco_nlp_scholar%2FDocuments%2Fcode_workspace%2FPython-getting-started%2FDay-04%2Flearn_numpy.ipynb%22%2C%22scheme%22%3A%22vscode-notebook-cell%22%2C%22fragment%22%3A%22X66sZmlsZQ%3D%3D%22%7D%2C%22pos%22%3A%7B%22line%22%3A67%2C%22character%22%3A18%7D%7D%5D%5D \"Go to definition\")\n",
    "    - Arguments:\n",
    "      - [`A`](command:_github.copilot.openSymbolFromReferences?%5B%22A%22%2C%5B%7B%22uri%22%3A%7B%22%24mid%22%3A1%2C%22fsPath%22%3A%22%2Fhome%2Fco_nlp_scholar%2FDocuments%2Fcode_workspace%2FPython-getting-started%2FDay-04%2Flearn_numpy.ipynb%22%2C%22external%22%3A%22vscode-notebook-cell%3A%2Fhome%2Fco_nlp_scholar%2FDocuments%2Fcode_workspace%2FPython-getting-started%2FDay-04%2Flearn_numpy.ipynb%23X66sZmlsZQ%253D%253D%22%2C%22path%22%3A%22%2Fhome%2Fco_nlp_scholar%2FDocuments%2Fcode_workspace%2FPython-getting-started%2FDay-04%2Flearn_numpy.ipynb%22%2C%22scheme%22%3A%22vscode-notebook-cell%22%2C%22fragment%22%3A%22X66sZmlsZQ%3D%3D%22%7D%2C%22pos%22%3A%7B%22line%22%3A3%2C%22character%22%3A0%7D%7D%5D%5D \"Go to definition\"): The coefficient matrix.\n",
    "      - [`B`](command:_github.copilot.openSymbolFromReferences?%5B%22B%22%2C%5B%7B%22uri%22%3A%7B%22%24mid%22%3A1%2C%22fsPath%22%3A%22%2Fhome%2Fco_nlp_scholar%2FDocuments%2Fcode_workspace%2FPython-getting-started%2FDay-04%2Flearn_numpy.ipynb%22%2C%22external%22%3A%22vscode-notebook-cell%3A%2Fhome%2Fco_nlp_scholar%2FDocuments%2Fcode_workspace%2FPython-getting-started%2FDay-04%2Flearn_numpy.ipynb%23X66sZmlsZQ%253D%253D%22%2C%22path%22%3A%22%2Fhome%2Fco_nlp_scholar%2FDocuments%2Fcode_workspace%2FPython-getting-started%2FDay-04%2Flearn_numpy.ipynb%22%2C%22scheme%22%3A%22vscode-notebook-cell%22%2C%22fragment%22%3A%22X66sZmlsZQ%3D%3D%22%7D%2C%22pos%22%3A%7B%22line%22%3A4%2C%22character%22%3A0%7D%7D%5D%5D \"Go to definition\"): The right-hand side matrix.\n",
    "    - Return type: `ndarray`\n",
    "\n",
    "I hope this helps! Let me know if you have any further questions."
   ]
  },
  {
   "cell_type": "code",
   "execution_count": 3,
   "metadata": {},
   "outputs": [
    {
     "name": "stdout",
     "output_type": "stream",
     "text": [
      "<class 'numpy.ndarray'>\n",
      "6\n",
      "(6,)\n",
      "1\n"
     ]
    }
   ],
   "source": [
    "print(type(my_array))\n",
    "print(len(my_array))\n",
    "print(my_array.shape)\n",
    "print(my_array.ndim)"
   ]
  },
  {
   "cell_type": "code",
   "execution_count": 4,
   "metadata": {},
   "outputs": [
    {
     "name": "stdout",
     "output_type": "stream",
     "text": [
      "[[1 2]\n",
      " [3 4]\n",
      " [5 6]]\n"
     ]
    },
    {
     "data": {
      "text/plain": [
       "(3, 2)"
      ]
     },
     "execution_count": 4,
     "metadata": {},
     "output_type": "execute_result"
    }
   ],
   "source": [
    "array2 = my_array.reshape(3,2)\n",
    "print(array2)\n",
    "array2.shape"
   ]
  },
  {
   "cell_type": "code",
   "execution_count": 5,
   "metadata": {},
   "outputs": [
    {
     "name": "stdout",
     "output_type": "stream",
     "text": [
      "[[1 2]\n",
      " [3 4]\n",
      " [5 6]]\n",
      "(3, 2)\n",
      "2\n"
     ]
    }
   ],
   "source": [
    "array3 = my_array.reshape(3,-1) # -1 means that numpy will figure out the number of columns\n",
    "print(array3)\n",
    "print(array3.shape)\n",
    "print(array3.ndim) #"
   ]
  },
  {
   "cell_type": "code",
   "execution_count": 6,
   "metadata": {},
   "outputs": [
    {
     "name": "stdout",
     "output_type": "stream",
     "text": [
      "[[[  1   2   3]\n",
      "  [  4   5   6]\n",
      "  [  7   8   9]]\n",
      "\n",
      " [[ 92  93  94]\n",
      "  [ 95  96  97]\n",
      "  [ 98  99 100]]\n",
      "\n",
      " [[ 43  44  45]\n",
      "  [ 46  47  48]\n",
      "  [ 49  50  51]]]\n",
      "(3, 3, 3)\n"
     ]
    }
   ],
   "source": [
    "# Initializing numpy arrays from nested python lists\n",
    "my_list2 = [[1, 2, 3], [4, 5, 6], [7, 8, 9]]\n",
    "my_list3 = [[92, 93, 94], [95, 96, 97], [98, 99, 100]]\n",
    "my_list4 = [[43, 44, 45], [46, 47, 48], [49, 50, 51]]\n",
    "\n",
    "mul_array = np.array([my_list2, my_list3, my_list4])\n",
    "print(mul_array)\n",
    "print(mul_array.shape) "
   ]
  },
  {
   "cell_type": "code",
   "execution_count": 7,
   "metadata": {},
   "outputs": [
    {
     "data": {
      "text/plain": [
       "array([  1,   2,   3,   4,   5,   6,   7,   8,   9,  92,  93,  94,  95,\n",
       "        96,  97,  98,  99, 100,  43,  44,  45,  46,  47,  48,  49,  50,\n",
       "        51])"
      ]
     },
     "execution_count": 7,
     "metadata": {},
     "output_type": "execute_result"
    }
   ],
   "source": [
    "mul_array.flatten() # flattens the array to a single dimension"
   ]
  },
  {
   "cell_type": "markdown",
   "metadata": {},
   "source": [
    "## Numpy-Attributes\n",
    "NumPy arrays come with several attributes that provide useful information about the array. Here are some of the most commonly used attributes:"
   ]
  },
  {
   "cell_type": "markdown",
   "metadata": {},
   "source": [
    "1. `ndarray.ndim`\n",
    "   - The number of dimensions (axes) of the array"
   ]
  },
  {
   "cell_type": "code",
   "execution_count": 8,
   "metadata": {},
   "outputs": [
    {
     "name": "stdout",
     "output_type": "stream",
     "text": [
      "2\n"
     ]
    }
   ],
   "source": [
    "import numpy as np\n",
    "a = np.array([[1,2,3],[4,5,6]])\n",
    "print(a.ndim) # Output: 2"
   ]
  },
  {
   "cell_type": "markdown",
   "metadata": {},
   "source": [
    "2. `ndarray.shape`\n",
    "   - The dimensions of the array as a tuple of integers indicating the size of the array in each dimension"
   ]
  },
  {
   "cell_type": "code",
   "execution_count": 9,
   "metadata": {},
   "outputs": [
    {
     "name": "stdout",
     "output_type": "stream",
     "text": [
      "(2, 3)\n"
     ]
    }
   ],
   "source": [
    "print(a.shape) # Output: (2, 3)"
   ]
  },
  {
   "cell_type": "markdown",
   "metadata": {},
   "source": [
    "3. `ndarray.size`\n",
    "    - The total number of elements in the array "
   ]
  },
  {
   "cell_type": "code",
   "execution_count": 10,
   "metadata": {},
   "outputs": [
    {
     "name": "stdout",
     "output_type": "stream",
     "text": [
      "6\n"
     ]
    }
   ],
   "source": [
    "print(a.size) # Output: 6"
   ]
  },
  {
   "cell_type": "markdown",
   "metadata": {},
   "source": [
    "4. `ndarray.dtype`\n",
    "   - The data type of the elements in the array."
   ]
  },
  {
   "cell_type": "code",
   "execution_count": 11,
   "metadata": {},
   "outputs": [
    {
     "name": "stdout",
     "output_type": "stream",
     "text": [
      "int64\n"
     ]
    }
   ],
   "source": [
    "print(a.dtype) # Output: int64"
   ]
  },
  {
   "cell_type": "markdown",
   "metadata": {},
   "source": [
    "5. `ndarray.itemsize`\n",
    "   - The size in bytes of each element in the array"
   ]
  },
  {
   "cell_type": "code",
   "execution_count": 12,
   "metadata": {},
   "outputs": [
    {
     "name": "stdout",
     "output_type": "stream",
     "text": [
      "8\n"
     ]
    }
   ],
   "source": [
    "print(a.itemsize) # Output: 8 bytes"
   ]
  },
  {
   "cell_type": "markdown",
   "metadata": {},
   "source": [
    "6. `ndarry.nbyte`\n",
    "   - The total number of bytes consumed by the elements of the array"
   ]
  },
  {
   "cell_type": "code",
   "execution_count": 13,
   "metadata": {},
   "outputs": [
    {
     "name": "stdout",
     "output_type": "stream",
     "text": [
      "48\n"
     ]
    }
   ],
   "source": [
    "print(a.nbytes) # Output: 48 bytes"
   ]
  },
  {
   "cell_type": "markdown",
   "metadata": {},
   "source": [
    "7. `ndarray.T`\n",
    "   - The transposed array"
   ]
  },
  {
   "cell_type": "code",
   "execution_count": 14,
   "metadata": {},
   "outputs": [
    {
     "name": "stdout",
     "output_type": "stream",
     "text": [
      "[[1 4]\n",
      " [2 5]\n",
      " [3 6]]\n"
     ]
    }
   ],
   "source": [
    "print(a.T) \n",
    "# Output: [[1 4][2 5][3 6]]"
   ]
  },
  {
   "cell_type": "markdown",
   "metadata": {},
   "source": [
    "8. `ndarray.real`\n",
    "   - The real part of the array elements "
   ]
  },
  {
   "cell_type": "code",
   "execution_count": 17,
   "metadata": {},
   "outputs": [
    {
     "name": "stdout",
     "output_type": "stream",
     "text": [
      "[1. 3. 5.]\n"
     ]
    }
   ],
   "source": [
    "b = np.array([1 + 2j, 3 + 4j, 5 + 6j])\n",
    "print(b.real) # Output: [1. 3. 5.]"
   ]
  },
  {
   "cell_type": "markdown",
   "metadata": {},
   "source": [
    "9. `ndarray.imag`:\n",
    "    - The imaginary part of the array."
   ]
  },
  {
   "cell_type": "code",
   "execution_count": 18,
   "metadata": {},
   "outputs": [
    {
     "name": "stdout",
     "output_type": "stream",
     "text": [
      "[2. 4. 6.]\n"
     ]
    }
   ],
   "source": [
    "print(b.imag) # Output: [2. 4. 6.]"
   ]
  },
  {
   "cell_type": "markdown",
   "metadata": {},
   "source": [
    "10. `ndarray.flat`:\n",
    "    - A 1-D iterator over the array."
   ]
  },
  {
   "cell_type": "code",
   "execution_count": 22,
   "metadata": {},
   "outputs": [
    {
     "name": "stdout",
     "output_type": "stream",
     "text": [
      "1\n",
      "2\n",
      "3\n",
      "4\n",
      "5\n",
      "6\n"
     ]
    }
   ],
   "source": [
    "for element in a.flat:\n",
    "    print(element) # Output: 1 2 3 4 5 6"
   ]
  },
  {
   "cell_type": "markdown",
   "metadata": {},
   "source": [
    "11. `ndarray.ctypes`:\n",
    "    - An object to simplify the interaction of the array with the ctypes module."
   ]
  },
  {
   "cell_type": "code",
   "execution_count": 24,
   "metadata": {},
   "outputs": [
    {
     "name": "stdout",
     "output_type": "stream",
     "text": [
      "<numpy._core._internal._ctypes object at 0x702a6c73f6e0>\n"
     ]
    }
   ],
   "source": [
    "print(a.ctypes)"
   ]
  },
  {
   "cell_type": "markdown",
   "metadata": {},
   "source": [
    "## Numpy Arithmetic and Matrix operations"
   ]
  },
  {
   "cell_type": "code",
   "execution_count": 35,
   "metadata": {},
   "outputs": [
    {
     "data": {
      "image/png": "[encoded data removed]",
      "text/plain": [
       "<Figure size 640x480 with 1 Axes>"
      ]
     },
     "metadata": {},
     "output_type": "display_data"
    }
   ],
   "source": [
    "import numpy as np\n",
    "import matplotlib.pyplot as plt\n",
    "\n",
    "# Create a sample 2x2 matrix\n",
    "A = np.array([[0, 1], [1, 0]])\n",
    "B = np.array([[2, 6], [4, 3]])\n",
    "\n",
    "# Extract columns as vectors\n",
    "v1 = A[:, 0] # First column of A as a column vector\n",
    "v2 = A[:, 1] # Second column of A as a column  vector\n",
    "\n",
    "v3 = B[:, 0] # First column of B as a column vector\n",
    "v4 = B[:, 1] # Second column of B as a column vector\n",
    "\n",
    "# Origin point for the vectors\n",
    "origin = np.array([[0, 0], [0, 0]])\n",
    "\n",
    "# Plotting the vectors\n",
    "plt.quiver(*origin, [v1[0], v2[0]], [v1[1], v2[1]], angles='xy', scale_units='xy', scale=1, color=['r', 'b'])\n",
    "plt.quiver(*origin, [v3[0], v4[0]], [v3[1], v4[1]], angles='xy', scale_units='xy', scale=1, color=['c', 'm'])\n",
    "plt.xlim(0, 8)\n",
    "plt.ylim(0, 8)\n",
    "plt.grid()\n",
    "plt.axhline(0, color='black',linewidth=0.5)\n",
    "plt.axvline(0, color='black',linewidth=0.5)\n",
    "plt.title('2x2 Matrix Vectors')\n",
    "plt.show()\n"
   ]
  },
  {
   "cell_type": "code",
   "execution_count": 36,
   "metadata": {},
   "outputs": [
    {
     "name": "stdout",
     "output_type": "stream",
     "text": [
      "Matrix Addition:\n",
      " [[2 7]\n",
      " [5 3]]\n"
     ]
    }
   ],
   "source": [
    "# Matrix Addition\n",
    "matrix_addition = np.add(A, B)\n",
    "print(\"Matrix Addition:\\n\", matrix_addition)"
   ]
  },
  {
   "cell_type": "code",
   "execution_count": 37,
   "metadata": {},
   "outputs": [
    {
     "name": "stdout",
     "output_type": "stream",
     "text": [
      "Matrix Subtraction:\n",
      " [[-2 -5]\n",
      " [-3 -3]]\n"
     ]
    }
   ],
   "source": [
    "# Matrix Subtraction\n",
    "matrix_subtraction = np.subtract(A, B)\n",
    "print(\"Matrix Subtraction:\\n\", matrix_subtraction)"
   ]
  },
  {
   "cell_type": "code",
   "execution_count": 38,
   "metadata": {},
   "outputs": [
    {
     "name": "stdout",
     "output_type": "stream",
     "text": [
      "Element-wise Multiplication:\n",
      " [[0 6]\n",
      " [4 0]]\n"
     ]
    }
   ],
   "source": [
    "# Matrix Multiplication (Element-wise)\n",
    "elementwise_multiplication = np.multiply(A, B)\n",
    "print(\"Element-wise Multiplication:\\n\", elementwise_multiplication)"
   ]
  },
  {
   "cell_type": "code",
   "execution_count": 39,
   "metadata": {},
   "outputs": [
    {
     "name": "stdout",
     "output_type": "stream",
     "text": [
      "Dot Product:\n",
      " [[4 3]\n",
      " [2 6]]\n"
     ]
    }
   ],
   "source": [
    "# Matrix Multiplication (Dot Product)\n",
    "dot_product = np.dot(A, B)\n",
    "print(\"Dot Product:\\n\", dot_product)"
   ]
  },
  {
   "cell_type": "code",
   "execution_count": 40,
   "metadata": {},
   "outputs": [
    {
     "name": "stdout",
     "output_type": "stream",
     "text": [
      "Transpose of A:\n",
      " [[0 1]\n",
      " [1 0]]\n"
     ]
    }
   ],
   "source": [
    "# Matrix Transpose\n",
    "transpose_A = np.transpose(A)\n",
    "print(\"Transpose of A:\\n\", transpose_A)"
   ]
  },
  {
   "cell_type": "code",
   "execution_count": 42,
   "metadata": {},
   "outputs": [
    {
     "name": "stdout",
     "output_type": "stream",
     "text": [
      "Inverse of A:\n",
      " [[0. 1.]\n",
      " [1. 0.]]\n"
     ]
    }
   ],
   "source": [
    "# Matrix Inversion\n",
    "try:\n",
    "    inverse_A = np.linalg.inv(A)\n",
    "    print(\"Inverse of A:\\n\", inverse_A)\n",
    "except np.linalg.LinAlgError:\n",
    "    print(\"Matrix A is singular and cannot be inverted.\")"
   ]
  },
  {
   "cell_type": "code",
   "execution_count": 43,
   "metadata": {},
   "outputs": [
    {
     "name": "stdout",
     "output_type": "stream",
     "text": [
      "Determinant of A: -1.0\n"
     ]
    }
   ],
   "source": [
    "# Matrix Determinant\n",
    "determinant_A = np.linalg.det(A)\n",
    "print(\"Determinant of A:\", determinant_A)"
   ]
  },
  {
   "cell_type": "code",
   "execution_count": 46,
   "metadata": {},
   "outputs": [
    {
     "name": "stdout",
     "output_type": "stream",
     "text": [
      "Rank of A: 2\n"
     ]
    }
   ],
   "source": [
    "# Matrix Rank\n",
    "rank_A = np.linalg.matrix_rank(A)\n",
    "print(\"Rank of A:\", rank_A)"
   ]
  },
  {
   "cell_type": "code",
   "execution_count": 45,
   "metadata": {},
   "outputs": [
    {
     "name": "stdout",
     "output_type": "stream",
     "text": [
      "Eigenvalues of A: [ 1. -1.]\n",
      "Eigenvectors of A:\n",
      " [[ 0.70710678 -0.70710678]\n",
      " [ 0.70710678  0.70710678]]\n"
     ]
    }
   ],
   "source": [
    "# Eigenvalues and Eigenvectors\n",
    "eigenvalues, eigenvectors = np.linalg.eig(A)\n",
    "print(\"Eigenvalues of A:\", eigenvalues)\n",
    "print(\"Eigenvectors of A:\\n\", eigenvectors)"
   ]
  },
  {
   "cell_type": "code",
   "execution_count": 44,
   "metadata": {},
   "outputs": [
    {
     "name": "stdout",
     "output_type": "stream",
     "text": [
      "Trace of A: 0\n"
     ]
    }
   ],
   "source": [
    "# Matrix Trace\n",
    "trace_A = np.trace(A)\n",
    "print(\"Trace of A:\", trace_A)"
   ]
  },
  {
   "cell_type": "code",
   "execution_count": 47,
   "metadata": {},
   "outputs": [
    {
     "name": "stdout",
     "output_type": "stream",
     "text": [
      "Solution of Ax = B:\n",
      " [[6.]\n",
      " [5.]]\n"
     ]
    }
   ],
   "source": [
    "# Solving Linear Equations (Ax = B)\n",
    "# Example: Solve for x in Ax = B where A is a 2x2 matrix and B is a 2x1 matrix\n",
    "B = np.array([[5], [6]])\n",
    "try:\n",
    "    x = np.linalg.solve(A, B)\n",
    "    print(\"Solution of Ax = B:\\n\", x)\n",
    "except np.linalg.LinAlgError:\n",
    "    print(\"Matrix A is singular and cannot solve Ax = B.\")"
   ]
  }
 ],
 "metadata": {
  "kernelspec": {
   "display_name": "Python 3",
   "language": "python",
   "name": "python3"
  },
  "language_info": {
   "codemirror_mode": {
    "name": "ipython",
    "version": 3
   },
   "file_extension": ".py",
   "mimetype": "text/x-python",
   "name": "python",
   "nbconvert_exporter": "python",
   "pygments_lexer": "ipython3",
   "version": "3.12.3"
  }
 },
 "nbformat": 4,
 "nbformat_minor": 2
}
