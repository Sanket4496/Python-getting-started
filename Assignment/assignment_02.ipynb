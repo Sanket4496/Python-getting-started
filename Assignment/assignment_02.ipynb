{
 "cells": [
  {
   "cell_type": "markdown",
   "metadata": {},
   "source": [
    "## Week 2 : Assignment 2 "
   ]
  },
  {
   "cell_type": "markdown",
   "metadata": {},
   "source": [
    "1. Which of the following object does not support indexing? \n",
    "   <span style=\"color:#19c5bf\">Ans: set</span>\n",
    "   \n",
    "2. Given a NumPy array, `arr = np.array([[[1, 2, 3], [4, 5, 6], [7, 8, 9]]])`, what is the output of the command, `print(arr[0][1])`?\n",
    "   <span style=\"color:#19c5bf\">Ans: [4, 5, 6]</span>"
   ]
  },
  {
   "cell_type": "code",
   "execution_count": 19,
   "metadata": {},
   "outputs": [
    {
     "data": {
      "text/plain": [
       "array([4, 5, 6])"
      ]
     },
     "execution_count": 19,
     "metadata": {},
     "output_type": "execute_result"
    }
   ],
   "source": [
    "import numpy as np\n",
    "arr = np.array([[[1, 2, 3], [4, 5, 6], [7, 8, 9]]])\n",
    "arr[0][1]"
   ]
  },
  {
   "cell_type": "markdown",
   "metadata": {},
   "source": [
    "3. What is th output of the following code ?\n",
    "   \n",
    "   ```python\n",
    "   S = {1, 2, 4, 5} \n",
    "   l = []\n",
    "\n",
    "   for i in range(len(S)):\n",
    "       l += [1 + i]\n",
    "   print(l)\n",
    "   ```\n",
    "   <span style=\"color:#19c5bf\">Ans: [1, 2, 3, 4]</span>"
   ]
  },
  {
   "cell_type": "code",
   "execution_count": 20,
   "metadata": {},
   "outputs": [
    {
     "name": "stdout",
     "output_type": "stream",
     "text": [
      "[1, 2, 3, 4]\n"
     ]
    }
   ],
   "source": [
    "S = {1, 2, 4, 5} \n",
    "l = []\n",
    "\n",
    "for i in range(len(S)):\n",
    "    l += [1 + i]\n",
    "print(l)"
   ]
  },
  {
   "cell_type": "markdown",
   "metadata": {},
   "source": [
    "4. What is the output of the following code?\n",
    "   \n",
    "   ```python\n",
    "   import numpy as np\n",
    "   arr = np.array(np.arange(0, 15))\n",
    "   print(arr.reshape(3, 5))\n",
    "   ```\n",
    "   <span style=\"color:#19c5bf\">Ans: [[ 0  1  2  3  4]\n",
    " [ 5  6  7  8  9]\n",
    " [10 11 12 13 14]]</span>"
   ]
  },
  {
   "cell_type": "code",
   "execution_count": 21,
   "metadata": {},
   "outputs": [
    {
     "name": "stdout",
     "output_type": "stream",
     "text": [
      "[[ 0  1  2  3  4]\n",
      " [ 5  6  7  8  9]\n",
      " [10 11 12 13 14]]\n"
     ]
    }
   ],
   "source": [
    "import numpy as np\n",
    "arr = np.array(np.arange(0, 15))\n",
    "arr\n",
    "print(arr.reshape(3, 5)) # 3 rows and 5 columns"
   ]
  },
  {
   "cell_type": "markdown",
   "metadata": {},
   "source": [
    "5. Which of the following code gives output My friend’s house is in Chennai?\n",
    "   \n",
    "   <span style=\"color:#19c5bf\">Ans:  \n",
    "   ```python \n",
    "   place = 'Chennai'\n",
    "   print(\"My friend’s house is in {}\".format(place))\n",
    "   print(\"My friend’s house is in {}\".format(\"Chennai\"))```\n",
    "</span>\n",
    "   "
   ]
  },
  {
   "cell_type": "code",
   "execution_count": 22,
   "metadata": {},
   "outputs": [
    {
     "name": "stdout",
     "output_type": "stream",
     "text": [
      "My friend’s house is in Chennai\n",
      "My friend’s house is in Chennai\n"
     ]
    }
   ],
   "source": [
    "place = 'Chennai'\n",
    "print(\"My friend’s house is in {}\".format(place))\n",
    "print(\"My friend’s house is in {}\".format(\"Chennai\"))"
   ]
  },
  {
   "cell_type": "markdown",
   "metadata": {},
   "source": [
    "6. Let \n",
    "```python \n",
    "t1 = (1, 2, “tuple”, 4)\n",
    "t2 = (5, 6, 7)\n",
    "``` \n",
    "Which of the following will not give any error after the execution?\n",
    "   - `t1.append(5)` <span style=\"color:red\">Error as tuple is immutable</span>\n",
    "   - `x = t2[t1[1]]`\n",
    "   - `t3 = t1 + t2`\n",
    "   - `t3 = (t1, t2)`\n",
    "   - `t3 = (list(t1), list(t2))` "
   ]
  },
  {
   "cell_type": "code",
   "execution_count": 23,
   "metadata": {},
   "outputs": [],
   "source": [
    "t1 = (1, 2, 'tuple', 4)\n",
    "t2 = (5, 6, 7)\n",
    "\n",
    "# t1.append(5) # Error as tuple is immutable"
   ]
  },
  {
   "cell_type": "code",
   "execution_count": 24,
   "metadata": {},
   "outputs": [
    {
     "data": {
      "text/plain": [
       "7"
      ]
     },
     "execution_count": 24,
     "metadata": {},
     "output_type": "execute_result"
    }
   ],
   "source": [
    "x = t2[t1[1]] # t1[1] = 2, t2[2] = 7\n",
    "x"
   ]
  },
  {
   "cell_type": "code",
   "execution_count": 32,
   "metadata": {},
   "outputs": [
    {
     "data": {
      "text/plain": [
       "(1, 2, 'tuple', 4, 5, 6, 7)"
      ]
     },
     "execution_count": 32,
     "metadata": {},
     "output_type": "execute_result"
    }
   ],
   "source": [
    "t3 = t1 + t2 # (1, 2, 'tuple', 4, 5, 6, 7) is appending t2 to t1 and storing in t3\n",
    "t3"
   ]
  },
  {
   "cell_type": "code",
   "execution_count": 33,
   "metadata": {},
   "outputs": [
    {
     "data": {
      "text/plain": [
       "((1, 2, 'tuple', 4), (5, 6, 7))"
      ]
     },
     "execution_count": 33,
     "metadata": {},
     "output_type": "execute_result"
    }
   ],
   "source": [
    "t3 = (t1, t2) # ((1, 2, 'tuple', 4), (5, 6, 7)) is storing t1 and t2 in t3\n",
    "t3"
   ]
  },
  {
   "cell_type": "code",
   "execution_count": 34,
   "metadata": {},
   "outputs": [
    {
     "data": {
      "text/plain": [
       "([1, 2, 'tuple', 4], [5, 6, 7])"
      ]
     },
     "execution_count": 34,
     "metadata": {},
     "output_type": "execute_result"
    }
   ],
   "source": [
    "t3 = (list(t1), list(t2)) # converting t1 and t2 to list and storing in t3\n",
    "t3 "
   ]
  },
  {
   "cell_type": "markdown",
   "metadata": {},
   "source": [
    "7. Let `d = {1 : “Pyhton”, 2 : [1, 2, 3]}`. Which among the following will not give the error after the execution?\n",
    "   - `d[2].append(4)`   \n",
    "   - `x = d[0]` <span style=\"color:red\">KeyError: 0</span>\n",
    "   - `d[\"one\"] = 1`\n",
    "   - `d.update('one' : 2)`"
   ]
  },
  {
   "cell_type": "code",
   "execution_count": 37,
   "metadata": {},
   "outputs": [],
   "source": [
    "d = {1 : 'Pyhton', 2 : [1, 2, 3]}"
   ]
  },
  {
   "cell_type": "code",
   "execution_count": 39,
   "metadata": {},
   "outputs": [
    {
     "data": {
      "text/plain": [
       "[1, 2, 3, 4, 4]"
      ]
     },
     "execution_count": 39,
     "metadata": {},
     "output_type": "execute_result"
    }
   ],
   "source": [
    "d[2].append(4)\n",
    "d[2]"
   ]
  },
  {
   "cell_type": "code",
   "execution_count": 45,
   "metadata": {},
   "outputs": [
    {
     "ename": "KeyError",
     "evalue": "0",
     "output_type": "error",
     "traceback": [
      "\u001b[0;31m---------------------------------------------------------------------------\u001b[0m",
      "\u001b[0;31mKeyError\u001b[0m                                  Traceback (most recent call last)",
      "Cell \u001b[0;32mIn[45], line 1\u001b[0m\n\u001b[0;32m----> 1\u001b[0m x \u001b[38;5;241m=\u001b[39m \u001b[43md\u001b[49m\u001b[43m[\u001b[49m\u001b[38;5;241;43m0\u001b[39;49m\u001b[43m]\u001b[49m\n",
      "\u001b[0;31mKeyError\u001b[0m: 0"
     ]
    }
   ],
   "source": [
    "x = d[0]"
   ]
  },
  {
   "cell_type": "code",
   "execution_count": 41,
   "metadata": {},
   "outputs": [
    {
     "data": {
      "text/plain": [
       "{1: 'Pyhton', 2: [1, 2, 3, 4, 4], 'one': 1}"
      ]
     },
     "execution_count": 41,
     "metadata": {},
     "output_type": "execute_result"
    }
   ],
   "source": [
    "d[\"one\"] = 1\n",
    "d"
   ]
  },
  {
   "cell_type": "code",
   "execution_count": 44,
   "metadata": {},
   "outputs": [
    {
     "data": {
      "text/plain": [
       "{1: 'Pyhton', 2: [1, 2, 3, 4, 4], 'one': 2}"
      ]
     },
     "execution_count": 44,
     "metadata": {},
     "output_type": "execute_result"
    }
   ],
   "source": [
    "d.update({'one' : 2}) \n",
    "d"
   ]
  },
  {
   "cell_type": "markdown",
   "metadata": {},
   "source": [
    "8. Which of the following data type is immutable?\n",
    "   - list\n",
    "   - set\n",
    "   - tuple <span style=\"color:#19c5bf\">Ans: tuple is immutable</span>\n",
    "   - dictionary"
   ]
  },
  {
   "cell_type": "markdown",
   "metadata": {},
   "source": [
    "9. `student = {‘name’: ‘Jane’, ‘age’: 25, ‘courses’: [‘Math’, ‘Statistics’]}` \n",
    "    \n",
    "    Which among the following will return </br>\n",
    "    \n",
    "    `{‘name’: ‘Jane’, ‘age’: 26, ‘courses’: [‘Math’, ‘Statistics’], ‘phone’: ‘123-456’}`\n",
    "    -  `student.update({‘age’ : 26})`\n",
    "    -  `student.update({‘age’ : 26, ‘phone’: ‘123-456’})` <span style=\"color:#19c5bf\">Ans</span>\n",
    "    -  `student['phone'] = ‘123-456’ student.update({‘age’ : 26})` <span style=\"color:#19c5bf\">Ans</span>\n",
    "    -  None of the above"
   ]
  },
  {
   "cell_type": "markdown",
   "metadata": {},
   "source": [
    "10. What is the output of the following code?\n",
    "```python\n",
    "name = \"Mahesh\"\n",
    "l = []\n",
    "for i in name:\n",
    "    l.append(i.capitalize())\n",
    "print(l)\n",
    "```\n",
    "<span style=\"color:#19c5bf\">Ans: ['M', 'A', 'H', 'E', 'S', 'H']</span>"
   ]
  },
  {
   "cell_type": "code",
   "execution_count": 46,
   "metadata": {},
   "outputs": [
    {
     "name": "stdout",
     "output_type": "stream",
     "text": [
      "['M', 'A', 'H', 'E', 'S', 'H']\n"
     ]
    }
   ],
   "source": [
    "name = \"Mahesh\"\n",
    "l = []\n",
    "for i in name:\n",
    "    l.append(i.capitalize())\n",
    "print(l)"
   ]
  }
 ],
 "metadata": {
  "kernelspec": {
   "display_name": ".venv",
   "language": "python",
   "name": "python3"
  },
  "language_info": {
   "codemirror_mode": {
    "name": "ipython",
    "version": 3
   },
   "file_extension": ".py",
   "mimetype": "text/x-python",
   "name": "python",
   "nbconvert_exporter": "python",
   "pygments_lexer": "ipython3",
   "version": "3.12.3"
  }
 },
 "nbformat": 4,
 "nbformat_minor": 2
}
