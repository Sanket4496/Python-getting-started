{
 "cells": [
  {
   "cell_type": "code",
   "execution_count": 2,
   "metadata": {},
   "outputs": [
    {
     "name": "stdout",
     "output_type": "stream",
     "text": [
      "Confusion Matrix:\n",
      "[[94  5]\n",
      " [ 7 29]]\n",
      "\n",
      "Accuracy: 91.11%\n"
     ]
    }
   ],
   "source": [
    "import pandas as pd\n",
    "from sklearn.model_selection import train_test_split\n",
    "from sklearn.linear_model import LogisticRegression\n",
    "from sklearn.metrics import confusion_matrix, accuracy_score\n",
    "\n",
    "# Step 1: Load the datasets\n",
    "train_data = pd.read_csv('../datasets/ServiceTrain.csv')\n",
    "test_data = pd.read_csv('../datasets/ServiceTest.csv')\n",
    "\n",
    "# Step 2: Encode the categorical variable 'Service' as 1 for 'Yes' and 0 for 'No'\n",
    "train_data['Service'] = train_data['Service'].apply(lambda x: 1 if x == 'Yes' else 0)\n",
    "test_data['Service'] = test_data['Service'].apply(lambda x: 1 if x == 'Yes' else 0)\n",
    "\n",
    "# Step 3: Split the independent features and the dependent feature\n",
    "X_train = train_data.drop('Service', axis=1)\n",
    "y_train = train_data['Service']\n",
    "\n",
    "X_test = test_data.drop('Service', axis=1)\n",
    "y_test = test_data['Service']\n",
    "\n",
    "# Step 4: Apply Logistic Regression\n",
    "logreg = LogisticRegression(random_state=0)\n",
    "logreg.fit(X_train, y_train)\n",
    "\n",
    "# Step 5: Make predictions on the test set\n",
    "y_pred = logreg.predict(X_test)\n",
    "\n",
    "# Step 6: Evaluate the model using the confusion matrix and accuracy score\n",
    "conf_matrix = confusion_matrix(y_test, y_pred)\n",
    "accuracy = accuracy_score(y_test, y_pred)\n",
    "\n",
    "# Print the confusion matrix and accuracy\n",
    "print(\"Confusion Matrix:\")\n",
    "print(conf_matrix) # \n",
    "print(\"\\nAccuracy: {:.2f}%\".format(accuracy * 100))"
   ]
  },
  {
   "cell_type": "code",
   "execution_count": 9,
   "metadata": {},
   "outputs": [
    {
     "name": "stdout",
     "output_type": "stream",
     "text": [
      "RMSE of the baseline model: 0.46\n"
     ]
    }
   ],
   "source": [
    "import pandas as pd\n",
    "from sklearn.model_selection import train_test_split\n",
    "from sklearn.linear_model import LinearRegression\n",
    "from sklearn.metrics import mean_squared_error\n",
    "import numpy as np\n",
    "\n",
    "# Step 1: Load the dataset\n",
    "data = pd.read_csv('../datasets/GHI_Report.csv')\n",
    "\n",
    "# Step 2: Split the dataset into independent features and dependent feature\n",
    "# Assuming 'Happiness Score' is the target variable\n",
    "X = data[['Economy', 'Fam', 'Health', 'Freedom']]  # Independent features\n",
    "y = data['H_Score']  # Dependent feature\n",
    "\n",
    "# Step 3: Split the data into training and testing datasets\n",
    "X_train, X_test, y_train, y_test = train_test_split(X, y, test_size=0.25, random_state=1)\n",
    "\n",
    "# Step 4: Build the multiple linear regression model\n",
    "model = LinearRegression()\n",
    "model.fit(X_train, y_train)\n",
    "\n",
    "# Step 5: Predict on the test data and calculate RMSE\n",
    "y_pred = model.predict(X_test)\n",
    "rmse = np.sqrt(mean_squared_error(y_test, y_pred))\n",
    "\n",
    "# Output the RMSE value\n",
    "print(\"RMSE of the baseline model: {:.2f}\".format(rmse))"
   ]
  }
 ],
 "metadata": {
  "kernelspec": {
   "display_name": ".venv",
   "language": "python",
   "name": "python3"
  },
  "language_info": {
   "codemirror_mode": {
    "name": "ipython",
    "version": 3
   },
   "file_extension": ".py",
   "mimetype": "text/x-python",
   "name": "python",
   "nbconvert_exporter": "python",
   "pygments_lexer": "ipython3",
   "version": "3.12.3"
  }
 },
 "nbformat": 4,
 "nbformat_minor": 2
}
