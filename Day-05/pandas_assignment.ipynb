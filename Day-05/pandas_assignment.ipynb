{
 "cells": [
  {
   "cell_type": "code",
   "execution_count": null,
   "metadata": {},
   "outputs": [],
   "source": [
    "cocoa_data = pd.read_csv('../datasets/flavors_of_cocoa.csv')\n",
    "null_values = cocoa_data.isnull().sum() \n",
    "print(null_values)\n",
    "cocoa_data.describe()\n",
    "cocoa_data['Cocoa Percent'] = cocoa_data['Cocoa Percent'].str.replace('%', '').astype(float)\n",
    "cocoa_data.describe()\n",
    "import numpy as np\n",
    "B = [True, 2, 3.0, np.nan, \"False\"]\n",
    "[type(i) for i in B]\n",
    "cocoa_data.info()\n",
    "arr = np.array([1, 2, 3, 4, 5])\n",
    "print(arr[::2])"
   ]
  }
 ],
 "metadata": {
  "language_info": {
   "name": "python"
  }
 },
 "nbformat": 4,
 "nbformat_minor": 2
}
